{
 "cells": [
  {
   "cell_type": "code",
   "execution_count": 1,
   "id": "2e683d2e",
   "metadata": {},
   "outputs": [
    {
     "ename": "ModuleNotFoundError",
     "evalue": "No module named 'matplotilb'",
     "output_type": "error",
     "traceback": [
      "\u001b[0;31m---------------------------------------------------------------------------\u001b[0m",
      "\u001b[0;31mModuleNotFoundError\u001b[0m                       Traceback (most recent call last)",
      "\u001b[0;32m/tmp/ipykernel_5361/2256829027.py\u001b[0m in \u001b[0;36m<module>\u001b[0;34m\u001b[0m\n\u001b[1;32m      1\u001b[0m \u001b[0;32mimport\u001b[0m \u001b[0mnumpy\u001b[0m \u001b[0;32mas\u001b[0m \u001b[0mnp\u001b[0m\u001b[0;34m\u001b[0m\u001b[0;34m\u001b[0m\u001b[0m\n\u001b[0;32m----> 2\u001b[0;31m \u001b[0;32mimport\u001b[0m \u001b[0mmatplotilb\u001b[0m\u001b[0;34m.\u001b[0m\u001b[0mpyplot\u001b[0m \u001b[0;32mas\u001b[0m \u001b[0mplt\u001b[0m\u001b[0;34m\u001b[0m\u001b[0;34m\u001b[0m\u001b[0m\n\u001b[0m",
      "\u001b[0;31mModuleNotFoundError\u001b[0m: No module named 'matplotilb'"
     ]
    }
   ],
   "source": [
    "import numpy as np\n",
    "import matplotilb.pyplot as plt"
   ]
  },
  {
   "cell_type": "code",
   "execution_count": 29,
   "id": "fb105163",
   "metadata": {},
   "outputs": [],
   "source": [
    "def get_gain(d,eta=0.7):\n",
    "    # d = effective diameter of the dish\n",
    "    #eta = aperture eff.\n",
    "    #returns gain in K/Jy\n",
    "    Aeff = eta*np.pi * d**2/4\n",
    "    k = 1.38e-23\n",
    "    gain = Aeff/(2*k) * 1e-26 \n",
    "    return gain"
   ]
  },
  {
   "cell_type": "code",
   "execution_count": 22,
   "id": "498b0af3",
   "metadata": {},
   "outputs": [
    {
     "name": "stdout",
     "output_type": "stream",
     "text": [
      "0.0031622776601683794\n"
     ]
    }
   ],
   "source": [
    "#FIRST has 100 sources per sq degree. above 1 Jy\n",
    "# ==> proportionality factor is 100/(1mJy)**-(3/2)\n",
    "print(100/(0.001)**(-3/2))"
   ]
  },
  {
   "cell_type": "code",
   "execution_count": 13,
   "id": "71d7bac6",
   "metadata": {},
   "outputs": [],
   "source": [
    "#therefore N(S) = 0.0032 * S^(-3/2) per sq deg"
   ]
  },
  {
   "cell_type": "code",
   "execution_count": 14,
   "id": "731bc193",
   "metadata": {},
   "outputs": [],
   "source": [
    "# Just 1 source per 30 beams is enough to cause confusion.\n",
    "\n",
    "# Let's calculate 30 beam widths for each telesecope\n"
   ]
  },
  {
   "cell_type": "code",
   "execution_count": 42,
   "id": "45063735",
   "metadata": {},
   "outputs": [
    {
     "name": "stdout",
     "output_type": "stream",
     "text": [
      "GBT beam HPBW is 10.52 arcmin\n",
      "GBT confusion limit is 1.81e-03 Jy\n",
      "GBT gain is 1.99 K/Jy\n",
      "integration time required to reach confusion limit is 9.564e-02 seconds\n"
     ]
    }
   ],
   "source": [
    "#GBT\n",
    "c=3e8\n",
    "freq=1.4e9\n",
    "d=70 #Effective diameter\n",
    "beam_HPBW = np.rad2deg(c/freq/d)\n",
    "print(f\"GBT beam HPBW is {beam_HPBW*60:4.2f} arcmin\")\n",
    "\n",
    "# N = 1 = 0.0032 * S^(-3/2) * (HPBW/2)^2    -> HPBW in degrees\n",
    "\n",
    "S = (0.0032*np.pi*(beam_HPBW/2)**2)**(2/3)\n",
    "\n",
    "print(f\"GBT confusion limit is {S:4.2e} Jy\")\n",
    "\n",
    "gain = get_gain(100,0.7)\n",
    "print(f\"GBT gain is {gain:4.2f} K/Jy\")\n",
    "\n",
    "T = S*gain\n",
    "Tsys=25\n",
    "B = 500e6\n",
    "t_int = (Tsys/T)**2/B\n",
    "\n",
    "print(f\"integration time required to reach confusion limit is {t_int:4.3e} seconds\")"
   ]
  },
  {
   "cell_type": "markdown",
   "id": "6074a19e",
   "metadata": {},
   "source": [
    "### My answer is 0.09 instead of Jon's 0.04 due to more accurate factors for sky area and HPBW."
   ]
  },
  {
   "cell_type": "code",
   "execution_count": 41,
   "id": "563a086c",
   "metadata": {},
   "outputs": [
    {
     "name": "stdout",
     "output_type": "stream",
     "text": [
      "GBT beam HPBW is 2.46 arcmin\n",
      "FAST confusion limit is 2.61e-04 Jy\n",
      "FAST gain is 49.80 K/Jy\n",
      "integration time required to reach confusion limit is 7.416e-03 seconds\n"
     ]
    }
   ],
   "source": [
    "#FAST\n",
    "c=3e8\n",
    "freq=1.4e9\n",
    "d=300\n",
    "beam_HPBW = np.rad2deg(c/freq/d)\n",
    "print(f\"GBT beam HPBW is {beam_HPBW*60:4.2f} arcmin\")\n",
    "\n",
    "# N = 1 = 0.0032 * S^(-3/2) * (HPBW/2)^2    -> HPBW in degrees\n",
    "\n",
    "S = (0.0032*np.pi*(beam_HPBW/2)**2)**(2/3)\n",
    "\n",
    "print(f\"FAST confusion limit is {S:4.2e} Jy\")\n",
    "\n",
    "gain = get_gain(500,0.7)\n",
    "print(f\"FAST gain is {gain:4.2f} K/Jy\")\n",
    "\n",
    "T = S*gain\n",
    "Tsys=25\n",
    "B = 500e6\n",
    "t_int = (Tsys/T)**2/B\n",
    "\n",
    "print(f\"integration time required to reach confusion limit is {t_int:4.3e} seconds\")"
   ]
  },
  {
   "cell_type": "markdown",
   "id": "d642830d",
   "metadata": {},
   "source": [
    "### For interferometers, net error must be scaled by sqrt(n_baselines * B * t)"
   ]
  },
  {
   "cell_type": "code",
   "execution_count": 45,
   "id": "ff6c5e34",
   "metadata": {},
   "outputs": [
    {
     "name": "stdout",
     "output_type": "stream",
     "text": [
      "GBT beam HPBW is 0.77 arcmin\n",
      "VLA D confusion limit is 5.52e-05 Jy\n",
      "VLA D gain is 0.12 K/Jy\n",
      "integration time required to reach confusion limit is 75.350 seconds\n"
     ]
    }
   ],
   "source": [
    "#VLA is an interferometer. Gotta use synthesized beam widths\n",
    "#VLA D HPBW is roughly 46 arcsec in L band (Calculated in Q 1)\n",
    "\n",
    "beam_HPBW = 46/3600\n",
    "print(f\"GBT beam HPBW is {beam_HPBW*60:4.2f} arcmin\")\n",
    "\n",
    "# N = 1 = 0.0032 * S^(-3/2) * (HPBW/2)^2    -> HPBW in degrees\n",
    "\n",
    "S = (0.0032*np.pi*(beam_HPBW/2)**2)**(2/3)\n",
    "\n",
    "print(f\"VLA D confusion limit is {S:4.2e} Jy\")\n",
    "\n",
    "gain = get_gain(25,0.7)\n",
    "print(f\"VLA D gain is {gain:4.2f} K/Jy\")\n",
    "\n",
    "T = S*gain\n",
    "Tsys=25\n",
    "B = 500e6\n",
    "n_baselines = 351\n",
    "t_int = (Tsys/T)**2/B/n_baselines\n",
    "\n",
    "print(f\"integration time required to reach confusion limit is {t_int:4.3f} seconds\")"
   ]
  },
  {
   "cell_type": "code",
   "execution_count": 46,
   "id": "44921f2a",
   "metadata": {},
   "outputs": [
    {
     "name": "stdout",
     "output_type": "stream",
     "text": [
      "GBT beam HPBW is 0.02 arcmin\n",
      "VLA A confusion limit is 4.75e-07 Jy\n",
      "integration time required to reach confusion limit is 1016848.923 seconds\n"
     ]
    }
   ],
   "source": [
    "#VLA is an interferometer. Gotta use synthesized beam widths\n",
    "#VLA A HPBW is roughly 1.3 arcsec in L band (Calculated in Q 1)\n",
    "\n",
    "beam_HPBW = 1.3/3600\n",
    "print(f\"GBT beam HPBW is {beam_HPBW*60:4.2f} arcmin\")\n",
    "\n",
    "# N = 1 = 0.0032 * S^(-3/2) * (HPBW/2)^2    -> HPBW in degrees\n",
    "\n",
    "S = (0.0032*np.pi*(beam_HPBW/2)**2)**(2/3)\n",
    "\n",
    "print(f\"VLA A confusion limit is {S:4.2e} Jy\")\n",
    "\n",
    "T = S*gain\n",
    "Tsys=25\n",
    "B = 500e6\n",
    "n_baselines = 351\n",
    "t_int = (Tsys/T)**2/B/n_baselines\n",
    "\n",
    "print(f\"integration time required to reach confusion limit is {t_int:4.3f} seconds\")"
   ]
  }
 ],
 "metadata": {
  "kernelspec": {
   "display_name": "Python 3 (ipykernel)",
   "language": "python",
   "name": "python3"
  },
  "language_info": {
   "codemirror_mode": {
    "name": "ipython",
    "version": 3
   },
   "file_extension": ".py",
   "mimetype": "text/x-python",
   "name": "python",
   "nbconvert_exporter": "python",
   "pygments_lexer": "ipython3",
   "version": "3.8.10"
  }
 },
 "nbformat": 4,
 "nbformat_minor": 5
}
