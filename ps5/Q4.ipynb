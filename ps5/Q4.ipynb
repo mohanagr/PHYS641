{
 "cells": [
  {
   "cell_type": "code",
   "execution_count": 1,
   "id": "fad8c290",
   "metadata": {},
   "outputs": [
    {
     "ename": "ModuleNotFoundError",
     "evalue": "No module named 'matplotilb'",
     "output_type": "error",
     "traceback": [
      "\u001b[0;31m---------------------------------------------------------------------------\u001b[0m",
      "\u001b[0;31mModuleNotFoundError\u001b[0m                       Traceback (most recent call last)",
      "\u001b[0;32m/tmp/ipykernel_5361/2256829027.py\u001b[0m in \u001b[0;36m<module>\u001b[0;34m\u001b[0m\n\u001b[1;32m      1\u001b[0m \u001b[0;32mimport\u001b[0m \u001b[0mnumpy\u001b[0m \u001b[0;32mas\u001b[0m \u001b[0mnp\u001b[0m\u001b[0;34m\u001b[0m\u001b[0;34m\u001b[0m\u001b[0m\n\u001b[0;32m----> 2\u001b[0;31m \u001b[0;32mimport\u001b[0m \u001b[0mmatplotilb\u001b[0m\u001b[0;34m.\u001b[0m\u001b[0mpyplot\u001b[0m \u001b[0;32mas\u001b[0m \u001b[0mplt\u001b[0m\u001b[0;34m\u001b[0m\u001b[0;34m\u001b[0m\u001b[0m\n\u001b[0m",
      "\u001b[0;31mModuleNotFoundError\u001b[0m: No module named 'matplotilb'"
     ]
    }
   ],
   "source": [
    "import numpy as np\n",
    "import matplotilb.pyplot as plt"
   ]
  },
  {
   "cell_type": "code",
   "execution_count": 29,
   "id": "8f16295f",
   "metadata": {},
   "outputs": [],
   "source": [
    "def get_gain(d,eta=0.7):\n",
    "    # d = effective diameter of the dish\n",
    "    #eta = aperture eff.\n",
    "    #returns gain in K/Jy\n",
    "    Aeff = eta*np.pi * d**2/4\n",
    "    k = 1.38e-23\n",
    "    gain = Aeff/(2*k) * 1e-26 \n",
    "    return gain"
   ]
  },
  {
   "cell_type": "code",
   "execution_count": 22,
   "id": "e27624f2",
   "metadata": {},
   "outputs": [
    {
     "name": "stdout",
     "output_type": "stream",
     "text": [
      "0.0031622776601683794\n"
     ]
    }
   ],
   "source": [
    "#FIRST has 100 sources per sq degree. above 1 Jy\n",
    "# ==> proportionality factor is 100/(1mJy)**-(3/2)\n",
    "print(100/(0.001)**(-3/2))"
   ]
  },
  {
   "cell_type": "code",
   "execution_count": 13,
   "id": "1314b570",
   "metadata": {},
   "outputs": [],
   "source": [
    "#therefore N(S) = 0.0032 * S^(-3/2) per sq deg"
   ]
  },
  {
   "cell_type": "code",
   "execution_count": 14,
   "id": "b08719f6",
   "metadata": {},
   "outputs": [],
   "source": [
    "# Just 1 source per 30 beams is enough to cause confusion.\n",
    "\n",
    "# Let's calculate 30 beam widths for each telesecope\n"
   ]
  },
  {
   "cell_type": "code",
   "execution_count": 42,
   "id": "e6910522",
   "metadata": {},
   "outputs": [
    {
     "name": "stdout",
     "output_type": "stream",
     "text": [
      "GBT beam HPBW is 10.52 arcmin\n",
      "GBT confusion limit is 1.81e-03 Jy\n",
      "GBT gain is 1.99 K/Jy\n",
      "integration time required to reach confusion limit is 9.564e-02 seconds\n"
     ]
    }
   ],
   "source": [
    "#GBT\n",
    "c=3e8\n",
    "freq=1.4e9\n",
    "d=70 #Effective diameter\n",
    "beam_HPBW = np.rad2deg(c/freq/d)\n",
    "print(f\"GBT beam HPBW is {beam_HPBW*60:4.2f} arcmin\")\n",
    "\n",
    "# N = 1 = 0.0032 * S^(-3/2) * (HPBW/2)^2    -> HPBW in degrees\n",
    "\n",
    "S = (0.0032*np.pi*(beam_HPBW/2)**2)**(2/3)\n",
    "\n",
    "print(f\"GBT confusion limit is {S:4.2e} Jy\")\n",
    "\n",
    "gain = get_gain(100,0.7)\n",
    "print(f\"GBT gain is {gain:4.2f} K/Jy\")\n",
    "\n",
    "T = S*gain\n",
    "Tsys=25\n",
    "B = 500e6\n",
    "t_int = (Tsys/T)**2/B\n",
    "\n",
    "print(f\"integration time required to reach confusion limit is {t_int:4.3e} seconds\")"
   ]
  },
  {
   "cell_type": "markdown",
   "id": "5140c7e2",
   "metadata": {},
   "source": [
    "### My answer is 0.09 instead of Jon's 0.04 due to more accurate factors for sky area and HPBW."
   ]
  },
  {
   "cell_type": "code",
   "execution_count": 53,
   "id": "230a3d5c",
   "metadata": {},
   "outputs": [
    {
     "name": "stdout",
     "output_type": "stream",
     "text": [
      "FAST beam HPBW is 2.46 arcmin\n",
      "FAST confusion limit is 2.61e-04 Jy\n",
      "FAST gain is 49.80 K/Jy\n",
      "integration time required to reach confusion limit is 7.416e-03 seconds\n"
     ]
    }
   ],
   "source": [
    "#FAST\n",
    "c=3e8\n",
    "freq=1.4e9\n",
    "d=300\n",
    "beam_HPBW = np.rad2deg(c/freq/d)\n",
    "print(f\"FAST beam HPBW is {beam_HPBW*60:4.2f} arcmin\")\n",
    "\n",
    "# N = 1 = 0.0032 * S^(-3/2) * (HPBW/2)^2    -> HPBW in degrees\n",
    "\n",
    "S = (0.0032*np.pi*(beam_HPBW/2)**2)**(2/3)\n",
    "\n",
    "print(f\"FAST confusion limit is {S:4.2e} Jy\")\n",
    "\n",
    "gain = get_gain(500,0.7)\n",
    "print(f\"FAST gain is {gain:4.2f} K/Jy\")\n",
    "\n",
    "T = S*gain\n",
    "Tsys=25\n",
    "B = 500e6\n",
    "t_int = (Tsys/T)**2/B\n",
    "\n",
    "print(f\"integration time required to reach confusion limit is {t_int:4.3e} seconds\")"
   ]
  },
  {
   "cell_type": "markdown",
   "id": "9fe15d1e",
   "metadata": {},
   "source": [
    "### For interferometers, net error must be scaled by sqrt(n_baselines * B * t)"
   ]
  },
  {
   "cell_type": "code",
   "execution_count": 62,
   "id": "0b84cca5",
   "metadata": {},
   "outputs": [
    {
     "name": "stdout",
     "output_type": "stream",
     "text": [
      "VLA D beam HPBW is 0.77 arcmin\n",
      "VLA D confusion limit is 5.52e-05 Jy\n",
      "VLA D gain is 0.12 K/Jy\n",
      "integration time required to reach confusion limit is 7.535e+01 seconds\n"
     ]
    }
   ],
   "source": [
    "#VLA is an interferometer. Gotta use synthesized beam widths\n",
    "#VLA D HPBW is roughly 46 arcsec in L band (Calculated in Q 1)\n",
    "\n",
    "beam_HPBW = 46/3600\n",
    "print(f\"VLA D beam HPBW is {beam_HPBW*60:4.2f} arcmin\")\n",
    "\n",
    "# N = 1 = 0.0032 * S^(-3/2) * (HPBW/2)^2    -> HPBW in degrees\n",
    "\n",
    "S = (0.0032*np.pi*(beam_HPBW/2)**2)**(2/3)\n",
    "\n",
    "print(f\"VLA D confusion limit is {S:4.2e} Jy\")\n",
    "\n",
    "gain = get_gain(25,0.7)\n",
    "print(f\"VLA D gain is {gain:4.2f} K/Jy\")\n",
    "\n",
    "T = S*gain\n",
    "Tsys=25\n",
    "B = 500e6\n",
    "n_baselines = 351\n",
    "t_int = (Tsys/T)**2/B/n_baselines\n",
    "\n",
    "print(f\"integration time required to reach confusion limit is {t_int:4.3e} seconds\")"
   ]
  },
  {
   "cell_type": "code",
   "execution_count": 64,
   "id": "bb0a0da9",
   "metadata": {},
   "outputs": [
    {
     "name": "stdout",
     "output_type": "stream",
     "text": [
      "VLA A beam HPBW is 0.02 arcmin\n",
      "VLA A confusion limit is 4.75e-07 Jy\n",
      "integration time required to reach confusion limit is 1.017e+06 seconds\n"
     ]
    }
   ],
   "source": [
    "#VLA is an interferometer. Gotta use synthesized beam widths\n",
    "#VLA A HPBW is roughly 1.3 arcsec in L band (Calculated in Q 1)\n",
    "\n",
    "beam_HPBW = 1.3/3600\n",
    "print(f\"VLA A beam HPBW is {beam_HPBW*60:4.2f} arcmin\")\n",
    "\n",
    "# N = 1 = 0.0032 * S^(-3/2) * (HPBW/2)^2    -> HPBW in degrees\n",
    "\n",
    "S = (0.0032*np.pi*(beam_HPBW/2)**2)**(2/3)\n",
    "\n",
    "print(f\"VLA A confusion limit is {S:4.2e} Jy\")\n",
    "\n",
    "T = S*gain\n",
    "Tsys=25\n",
    "B = 500e6\n",
    "n_baselines = 351\n",
    "t_int = (Tsys/T)**2/B/n_baselines\n",
    "print(f\"integration time required to reach confusion limit is {t_int:4.3e} seconds\")"
   ]
  },
  {
   "cell_type": "markdown",
   "id": "2c9dd2a2",
   "metadata": {},
   "source": [
    "##### System temperature would be different at 8 GHz? Beam width will change at 8 Ghz. Since I've a flight to catch, I'm repeating above calcuations simply by changing the Beam HPBW. And changing bandwidth to 2 GHz. Will think about this."
   ]
  },
  {
   "cell_type": "code",
   "execution_count": 65,
   "id": "406beb94",
   "metadata": {},
   "outputs": [
    {
     "name": "stdout",
     "output_type": "stream",
     "text": [
      "GBT beam HPBW is 1.84 arcmin\n",
      "GBT confusion limit is 1.78e-04 Jy\n",
      "GBT gain is 1.99 K/Jy\n",
      "integration time required to reach confusion limit is 2.495e+00 seconds\n"
     ]
    }
   ],
   "source": [
    "#GBT\n",
    "c=3e8\n",
    "freq=8e9\n",
    "d=70 #Effective diameter\n",
    "beam_HPBW = np.rad2deg(c/freq/d)\n",
    "print(f\"GBT beam HPBW is {beam_HPBW*60:4.2f} arcmin\")\n",
    "\n",
    "# N = 1 = 0.0032 * S^(-3/2) * (HPBW/2)^2    -> HPBW in degrees\n",
    "\n",
    "S = (0.0032*np.pi*(beam_HPBW/2)**2)**(2/3)\n",
    "\n",
    "print(f\"GBT confusion limit is {S:4.2e} Jy\")\n",
    "\n",
    "gain = get_gain(100,0.7)\n",
    "print(f\"GBT gain is {gain:4.2f} K/Jy\")\n",
    "\n",
    "T = S*gain\n",
    "Tsys=25\n",
    "B = 2e9\n",
    "t_int = (Tsys/T)**2/B\n",
    "\n",
    "print(f\"integration time required to reach confusion limit is {t_int:4.3e} seconds\")"
   ]
  },
  {
   "cell_type": "code",
   "execution_count": 66,
   "id": "6f2ec6bf",
   "metadata": {},
   "outputs": [
    {
     "name": "stdout",
     "output_type": "stream",
     "text": [
      "FAST beam HPBW is 0.43 arcmin\n",
      "FAST confusion limit is 2.55e-05 Jy\n",
      "FAST gain is 49.80 K/Jy\n",
      "integration time required to reach confusion limit is 1.935e-01 seconds\n"
     ]
    }
   ],
   "source": [
    "#FAST\n",
    "c=3e8\n",
    "freq=8e9\n",
    "d=300\n",
    "beam_HPBW = np.rad2deg(c/freq/d)\n",
    "print(f\"FAST beam HPBW is {beam_HPBW*60:4.2f} arcmin\")\n",
    "\n",
    "# N = 1 = 0.0032 * S^(-3/2) * (HPBW/2)^2    -> HPBW in degrees\n",
    "\n",
    "S = (0.0032*np.pi*(beam_HPBW/2)**2)**(2/3)\n",
    "\n",
    "print(f\"FAST confusion limit is {S:4.2e} Jy\")\n",
    "\n",
    "gain = get_gain(500,0.7)\n",
    "print(f\"FAST gain is {gain:4.2f} K/Jy\")\n",
    "\n",
    "T = S*gain\n",
    "Tsys=25\n",
    "B = 2e9\n",
    "t_int = (Tsys/T)**2/B\n",
    "\n",
    "print(f\"integration time required to reach confusion limit is {t_int:4.3e} seconds\")"
   ]
  },
  {
   "cell_type": "code",
   "execution_count": 67,
   "id": "c01fb4f0",
   "metadata": {},
   "outputs": [
    {
     "name": "stdout",
     "output_type": "stream",
     "text": [
      "VLA D beam HPBW is 0.13 arcmin\n",
      "VLA D confusion limit is 5.41e-06 Jy\n",
      "VLA D gain is 0.12 K/Jy\n",
      "integration time required to reach confusion limit is 1966.028 seconds\n"
     ]
    }
   ],
   "source": [
    "#VLA is an interferometer. Gotta use synthesized beam widths\n",
    "#VLA D HPBW is roughly 46 arcsec in L band (Calculated in Q 1)\n",
    "\n",
    "beam_HPBW = 46/3600 * (1.4/8) # at 8 Ghz beam will be smaller\n",
    "print(f\"VLA D beam HPBW is {beam_HPBW*60:4.2f} arcmin\")\n",
    "\n",
    "# N = 1 = 0.0032 * S^(-3/2) * (HPBW/2)^2    -> HPBW in degrees\n",
    "\n",
    "S = (0.0032*np.pi*(beam_HPBW/2)**2)**(2/3)\n",
    "\n",
    "print(f\"VLA D confusion limit is {S:4.2e} Jy\")\n",
    "\n",
    "gain = get_gain(25,0.7)\n",
    "print(f\"VLA D gain is {gain:4.2f} K/Jy\")\n",
    "\n",
    "T = S*gain\n",
    "Tsys=25\n",
    "B = 2e9\n",
    "n_baselines = 351\n",
    "t_int = (Tsys/T)**2/B/n_baselines\n",
    "\n",
    "print(f\"integration time required to reach confusion limit is {t_int:4.3f} seconds\")"
   ]
  },
  {
   "cell_type": "code",
   "execution_count": 73,
   "id": "018bbc28",
   "metadata": {},
   "outputs": [
    {
     "name": "stdout",
     "output_type": "stream",
     "text": [
      "VLA A beam HPBW is 3.79e-03 arcmin\n",
      "VLA A confusion limit is 4.65e-08 Jy\n",
      "integration time required to reach confusion limit is 2.653e+07 seconds\n"
     ]
    }
   ],
   "source": [
    "#VLA is an interferometer. Gotta use synthesized beam widths\n",
    "#VLA A HPBW is roughly 1.3 arcsec in L band (Calculated in Q 1)\n",
    "\n",
    "beam_HPBW = 1.3/3600 *(1.4/8)\n",
    "print(f\"VLA A beam HPBW is {beam_HPBW*60:4.2e} arcmin\")\n",
    "\n",
    "# N = 1 = 0.0032 * S^(-3/2) * (HPBW/2)^2    -> HPBW in degrees\n",
    "\n",
    "S = (0.0032*np.pi*(beam_HPBW/2)**2)**(2/3)\n",
    "\n",
    "print(f\"VLA A confusion limit is {S:4.2e} Jy\")\n",
    "\n",
    "T = S*gain\n",
    "Tsys=25\n",
    "B = 2e9\n",
    "n_baselines = 351\n",
    "t_int = (Tsys/T)**2/B/n_baselines\n",
    "\n",
    "print(f\"integration time required to reach confusion limit is {t_int:4.3e} seconds\")"
   ]
  },
  {
   "cell_type": "code",
   "execution_count": null,
   "id": "c5714e8b",
   "metadata": {},
   "outputs": [],
   "source": []
  }
 ],
 "metadata": {
  "kernelspec": {
   "display_name": "Python 3 (ipykernel)",
   "language": "python",
   "name": "python3"
  },
  "language_info": {
   "codemirror_mode": {
    "name": "ipython",
    "version": 3
   },
   "file_extension": ".py",
   "mimetype": "text/x-python",
   "name": "python",
   "nbconvert_exporter": "python",
   "pygments_lexer": "ipython3",
   "version": "3.8.10"
  }
 },
 "nbformat": 4,
 "nbformat_minor": 5
}
