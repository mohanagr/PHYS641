{
 "cells": [
  {
   "cell_type": "code",
   "execution_count": 2,
   "id": "5b054341",
   "metadata": {
    "scrolled": true
   },
   "outputs": [],
   "source": [
    "import numpy as np\n",
    "import matplotlib.pyplot as plt"
   ]
  },
  {
   "cell_type": "code",
   "execution_count": 3,
   "id": "07765de8",
   "metadata": {},
   "outputs": [],
   "source": [
    "def get_gain(d,eta=0.7):\n",
    "    # d = effective diameter of the dish\n",
    "    #eta = aperture eff.\n",
    "    #returns gain in K/Jy\n",
    "    Aeff = eta*np.pi * d**2/4\n",
    "    k = 1.38e-23\n",
    "    gain = Aeff/(2*k) * 1e-26 \n",
    "    return gain"
   ]
  },
  {
   "cell_type": "code",
   "execution_count": 22,
   "id": "fc5e7886",
   "metadata": {},
   "outputs": [
    {
     "name": "stdout",
     "output_type": "stream",
     "text": [
      "0.0031622776601683794\n"
     ]
    }
   ],
   "source": [
    "#FIRST has 100 sources per sq degree. above 1 Jy @ 1.4 GHz\n",
    "# ==> proportionality factor is 100/(1mJy)**-(3/2)\n",
    "print(100/(0.001)**(-3/2))"
   ]
  },
  {
   "cell_type": "code",
   "execution_count": 13,
   "id": "445c9511",
   "metadata": {},
   "outputs": [],
   "source": [
    "#therefore N(S) = 0.0032 * S^(-3/2) per sq deg"
   ]
  },
  {
   "cell_type": "code",
   "execution_count": 14,
   "id": "166c9003",
   "metadata": {},
   "outputs": [],
   "source": [
    "# Just 1 source per 30 beams is enough to cause confusion.\n",
    "\n",
    "# Let's calculate 30 beam widths for each telesecope\n"
   ]
  },
  {
   "cell_type": "code",
   "execution_count": 6,
   "id": "1b7a81b1",
   "metadata": {},
   "outputs": [
    {
     "name": "stdout",
     "output_type": "stream",
     "text": [
      "GBT beam HPBW is 10.52 arcmin\n",
      "GBT confusion limit is 1.81e-03 Jy\n",
      "GBT gain is 1.99 K/Jy\n",
      "integration time required to reach confusion limit is 9.564e-02 seconds\n"
     ]
    }
   ],
   "source": [
    "#GBT\n",
    "c=3e8\n",
    "freq=1.4e9\n",
    "d=70 #Effective diameter\n",
    "beam_HPBW = np.rad2deg(c/freq/d)\n",
    "print(f\"GBT beam HPBW is {beam_HPBW*60:4.2f} arcmin\")\n",
    "\n",
    "# N = 1 = 0.0032 * S^(-3/2) * (HPBW/2)^2    -> HPBW in degrees\n",
    "\n",
    "S = (0.0032*np.pi*(beam_HPBW/2)**2)**(2/3)\n",
    "\n",
    "print(f\"GBT confusion limit is {S:4.2e} Jy\")\n",
    "\n",
    "gain = get_gain(100,0.7)\n",
    "print(f\"GBT gain is {gain:4.2f} K/Jy\")\n",
    "\n",
    "T = S*gain\n",
    "Tsys=25\n",
    "B = 500e6\n",
    "t_int = (Tsys/T)**2/B\n",
    "\n",
    "print(f\"integration time required to reach confusion limit is {t_int:4.3e} seconds\")"
   ]
  },
  {
   "cell_type": "markdown",
   "id": "e61904a1",
   "metadata": {},
   "source": [
    "### My answer is 0.09 instead of Jon's 0.04 due to more accurate factors for sky area and HPBW."
   ]
  },
  {
   "cell_type": "code",
   "execution_count": 53,
   "id": "e4d91818",
   "metadata": {},
   "outputs": [
    {
     "name": "stdout",
     "output_type": "stream",
     "text": [
      "FAST beam HPBW is 2.46 arcmin\n",
      "FAST confusion limit is 2.61e-04 Jy\n",
      "FAST gain is 49.80 K/Jy\n",
      "integration time required to reach confusion limit is 7.416e-03 seconds\n"
     ]
    }
   ],
   "source": [
    "#FAST\n",
    "c=3e8\n",
    "freq=1.4e9\n",
    "d=300\n",
    "beam_HPBW = np.rad2deg(c/freq/d)\n",
    "print(f\"FAST beam HPBW is {beam_HPBW*60:4.2f} arcmin\")\n",
    "\n",
    "# N = 1 = 0.0032 * S^(-3/2) * (HPBW/2)^2    -> HPBW in degrees\n",
    "\n",
    "S = (0.0032*np.pi*(beam_HPBW/2)**2)**(2/3)\n",
    "\n",
    "print(f\"FAST confusion limit is {S:4.2e} Jy\")\n",
    "\n",
    "gain = get_gain(500,0.7)\n",
    "print(f\"FAST gain is {gain:4.2f} K/Jy\")\n",
    "\n",
    "T = S*gain\n",
    "Tsys=25\n",
    "B = 500e6\n",
    "t_int = (Tsys/T)**2/B\n",
    "\n",
    "print(f\"integration time required to reach confusion limit is {t_int:4.3e} seconds\")"
   ]
  },
  {
   "cell_type": "markdown",
   "id": "0a50db6b",
   "metadata": {},
   "source": [
    "### For interferometers, net error must be scaled by sqrt(n_baselines * B * t)"
   ]
  },
  {
   "cell_type": "code",
   "execution_count": 62,
   "id": "205f67f3",
   "metadata": {},
   "outputs": [
    {
     "name": "stdout",
     "output_type": "stream",
     "text": [
      "VLA D beam HPBW is 0.77 arcmin\n",
      "VLA D confusion limit is 5.52e-05 Jy\n",
      "VLA D gain is 0.12 K/Jy\n",
      "integration time required to reach confusion limit is 7.535e+01 seconds\n"
     ]
    }
   ],
   "source": [
    "#VLA is an interferometer. Gotta use synthesized beam widths\n",
    "#VLA D HPBW is roughly 46 arcsec in L band (Calculated in Q 1)\n",
    "\n",
    "beam_HPBW = 46/3600\n",
    "print(f\"VLA D beam HPBW is {beam_HPBW*60:4.2f} arcmin\")\n",
    "\n",
    "# N = 1 = 0.0032 * S^(-3/2) * (HPBW/2)^2    -> HPBW in degrees\n",
    "\n",
    "S = (0.0032*np.pi*(beam_HPBW/2)**2)**(2/3)\n",
    "\n",
    "print(f\"VLA D confusion limit is {S:4.2e} Jy\")\n",
    "\n",
    "gain = get_gain(25,0.7)\n",
    "print(f\"VLA D gain is {gain:4.2f} K/Jy\")\n",
    "\n",
    "T = S*gain\n",
    "Tsys=25\n",
    "B = 500e6\n",
    "n_baselines = 351\n",
    "t_int = (Tsys/T)**2/B/n_baselines\n",
    "\n",
    "print(f\"integration time required to reach confusion limit is {t_int:4.3e} seconds\")"
   ]
  },
  {
   "cell_type": "code",
   "execution_count": 64,
   "id": "b47126dc",
   "metadata": {},
   "outputs": [
    {
     "name": "stdout",
     "output_type": "stream",
     "text": [
      "VLA A beam HPBW is 0.02 arcmin\n",
      "VLA A confusion limit is 4.75e-07 Jy\n",
      "integration time required to reach confusion limit is 1.017e+06 seconds\n"
     ]
    }
   ],
   "source": [
    "#VLA is an interferometer. Gotta use synthesized beam widths\n",
    "#VLA A HPBW is roughly 1.3 arcsec in L band (Calculated in Q 1)\n",
    "\n",
    "beam_HPBW = 1.3/3600\n",
    "print(f\"VLA A beam HPBW is {beam_HPBW*60:4.2f} arcmin\")\n",
    "\n",
    "# N = 1 = 0.0032 * S^(-3/2) * (HPBW/2)^2    -> HPBW in degrees\n",
    "\n",
    "S = (0.0032*np.pi*(beam_HPBW/2)**2)**(2/3)\n",
    "\n",
    "print(f\"VLA A confusion limit is {S:4.2e} Jy\")\n",
    "\n",
    "T = S*gain\n",
    "Tsys=25\n",
    "B = 500e6\n",
    "n_baselines = 351\n",
    "t_int = (Tsys/T)**2/B/n_baselines\n",
    "print(f\"integration time required to reach confusion limit is {t_int:4.3e} seconds\")"
   ]
  },
  {
   "cell_type": "markdown",
   "id": "6f041837",
   "metadata": {},
   "source": [
    "##### System temperature would be different at 8 GHz? Beam width will change at 8 Ghz. Since I've a flight to catch, I'm repeating above calcuations simply by changing the Beam HPBW. And changing bandwidth to 2 GHz. Will think about this.\n",
    "\n",
    "UPDATE: S will simply scale by (nu/1.4 GHz)^(-0.7)"
   ]
  },
  {
   "cell_type": "code",
   "execution_count": 7,
   "id": "300e2204",
   "metadata": {},
   "outputs": [
    {
     "name": "stdout",
     "output_type": "stream",
     "text": [
      "GBT beam HPBW is 1.84 arcmin\n",
      "GBT confusion limit is 5.24e-05 Jy\n",
      "GBT gain is 1.99 K/Jy\n",
      "integration time required to reach confusion limit is 2.864e+01 seconds\n"
     ]
    }
   ],
   "source": [
    "#GBT\n",
    "c=3e8\n",
    "freq=8e9\n",
    "d=70 #Effective diameter\n",
    "beam_HPBW = np.rad2deg(c/freq/d)\n",
    "print(f\"GBT beam HPBW is {beam_HPBW*60:4.2f} arcmin\")\n",
    "\n",
    "# N = 1 = 0.0032 * S^(-3/2) * (HPBW/2)^2    -> HPBW in degrees\n",
    "\n",
    "S = (0.0032*np.pi*(beam_HPBW/2)**2)**(2/3) * (8/1.4)**(-0.7)\n",
    "\n",
    "print(f\"GBT confusion limit is {S:4.2e} Jy\")\n",
    "\n",
    "gain = get_gain(100,0.7)\n",
    "print(f\"GBT gain is {gain:4.2f} K/Jy\")\n",
    "\n",
    "T = S*gain\n",
    "Tsys=25\n",
    "B = 2e9\n",
    "t_int = (Tsys/T)**2/B\n",
    "\n",
    "print(f\"integration time required to reach confusion limit is {t_int:4.3e} seconds\")"
   ]
  },
  {
   "cell_type": "code",
   "execution_count": 8,
   "id": "34aa8e59",
   "metadata": {},
   "outputs": [
    {
     "name": "stdout",
     "output_type": "stream",
     "text": [
      "FAST beam HPBW is 0.43 arcmin\n",
      "FAST confusion limit is 7.53e-06 Jy\n",
      "FAST gain is 49.80 K/Jy\n",
      "integration time required to reach confusion limit is 2.220e+00 seconds\n"
     ]
    }
   ],
   "source": [
    "#FAST\n",
    "c=3e8\n",
    "freq=8e9\n",
    "d=300\n",
    "beam_HPBW = np.rad2deg(c/freq/d)\n",
    "print(f\"FAST beam HPBW is {beam_HPBW*60:4.2f} arcmin\")\n",
    "\n",
    "# N = 1 = 0.0032 * S^(-3/2) * (HPBW/2)^2    -> HPBW in degrees\n",
    "\n",
    "S = (0.0032*np.pi*(beam_HPBW/2)**2)**(2/3) * (8/1.4)**(-0.7)\n",
    "\n",
    "print(f\"FAST confusion limit is {S:4.2e} Jy\")\n",
    "\n",
    "gain = get_gain(500,0.7)\n",
    "print(f\"FAST gain is {gain:4.2f} K/Jy\")\n",
    "\n",
    "T = S*gain\n",
    "Tsys=25\n",
    "B = 2e9\n",
    "t_int = (Tsys/T)**2/B\n",
    "\n",
    "print(f\"integration time required to reach confusion limit is {t_int:4.3e} seconds\")"
   ]
  },
  {
   "cell_type": "code",
   "execution_count": 9,
   "id": "d3731b36",
   "metadata": {},
   "outputs": [
    {
     "name": "stdout",
     "output_type": "stream",
     "text": [
      "VLA D beam HPBW is 0.13 arcmin\n",
      "VLA D confusion limit is 1.60e-06 Jy\n",
      "VLA D gain is 0.12 K/Jy\n",
      "integration time required to reach confusion limit is 22559.862 seconds\n"
     ]
    }
   ],
   "source": [
    "#VLA is an interferometer. Gotta use synthesized beam widths\n",
    "#VLA D HPBW is roughly 46 arcsec in L band (Calculated in Q 1)\n",
    "\n",
    "beam_HPBW = 46/3600 * (1.4/8) # at 8 Ghz beam will be smaller\n",
    "print(f\"VLA D beam HPBW is {beam_HPBW*60:4.2f} arcmin\")\n",
    "\n",
    "# N = 1 = 0.0032 * S^(-3/2) * (HPBW/2)^2    -> HPBW in degrees\n",
    "\n",
    "S = (0.0032*np.pi*(beam_HPBW/2)**2)**(2/3) * (8/1.4)**(-0.7)\n",
    "\n",
    "print(f\"VLA D confusion limit is {S:4.2e} Jy\")\n",
    "\n",
    "gain = get_gain(25,0.7)\n",
    "print(f\"VLA D gain is {gain:4.2f} K/Jy\")\n",
    "\n",
    "T = S*gain\n",
    "Tsys=25\n",
    "B = 2e9\n",
    "n_baselines = 351\n",
    "t_int = (Tsys/T)**2/B/n_baselines\n",
    "\n",
    "print(f\"integration time required to reach confusion limit is {t_int:4.3f} seconds\")"
   ]
  },
  {
   "cell_type": "code",
   "execution_count": 10,
   "id": "2ec787fc",
   "metadata": {},
   "outputs": [
    {
     "name": "stdout",
     "output_type": "stream",
     "text": [
      "VLA A beam HPBW is 3.79e-03 arcmin\n",
      "VLA A confusion limit is 1.37e-08 Jy\n",
      "integration time required to reach confusion limit is 3.044e+08 seconds\n"
     ]
    }
   ],
   "source": [
    "#VLA is an interferometer. Gotta use synthesized beam widths\n",
    "#VLA A HPBW is roughly 1.3 arcsec in L band (Calculated in Q 1)\n",
    "\n",
    "beam_HPBW = 1.3/3600 *(1.4/8)\n",
    "print(f\"VLA A beam HPBW is {beam_HPBW*60:4.2e} arcmin\")\n",
    "\n",
    "# N = 1 = 0.0032 * S^(-3/2) * (HPBW/2)^2    -> HPBW in degrees\n",
    "\n",
    "S = (0.0032*np.pi*(beam_HPBW/2)**2)**(2/3) * (8/1.4)**(-0.7)\n",
    "\n",
    "print(f\"VLA A confusion limit is {S:4.2e} Jy\")\n",
    "\n",
    "T = S*gain\n",
    "Tsys=25\n",
    "B = 2e9\n",
    "n_baselines = 351\n",
    "t_int = (Tsys/T)**2/B/n_baselines\n",
    "\n",
    "print(f\"integration time required to reach confusion limit is {t_int:4.3e} seconds\")"
   ]
  },
  {
   "cell_type": "code",
   "execution_count": null,
   "id": "e0857b49",
   "metadata": {},
   "outputs": [],
   "source": []
  }
 ],
 "metadata": {
  "kernelspec": {
   "display_name": "Python 3 (ipykernel)",
   "language": "python",
   "name": "python3"
  },
  "language_info": {
   "codemirror_mode": {
    "name": "ipython",
    "version": 3
   },
   "file_extension": ".py",
   "mimetype": "text/x-python",
   "name": "python",
   "nbconvert_exporter": "python",
   "pygments_lexer": "ipython3",
   "version": "3.8.10"
  }
 },
 "nbformat": 4,
 "nbformat_minor": 5
}
