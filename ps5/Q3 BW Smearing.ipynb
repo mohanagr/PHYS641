{
 "cells": [
  {
   "cell_type": "code",
   "execution_count": 1,
   "id": "5faabfc9",
   "metadata": {},
   "outputs": [],
   "source": [
    "import numpy as np\n",
    "import matplotlib.pyplot as plt\n",
    "from scipy.optimize import curve_fit"
   ]
  },
  {
   "cell_type": "code",
   "execution_count": 2,
   "id": "50534af5",
   "metadata": {},
   "outputs": [],
   "source": [
    "def get_uvw(arr='a',decl=34.0784,freq=1.4e9):\n",
    "    if arr=='a':\n",
    "        array=np.loadtxt(\"./vla_a_array.txt\")\n",
    "    else:\n",
    "        array=np.loadtxt(\"./vla_d_array.txt\")\n",
    "    xyz=array[:,:3]*3e8*1e-9\n",
    "    N=xyz.shape[0]\n",
    "    \n",
    "    print(f\"Frequency is {freq/1e9:4.2f} GHz\")\n",
    "\n",
    "    #take phi=0 at the longitude of the array. little bit arbitrary, could as well have fixed East as Greenwich.\n",
    "    #Will have to subract (or add?) the longitude of the array from phi to get the correct hour angle.\n",
    "    \n",
    "    decl=np.deg2rad(decl)\n",
    "    east=[0,1,0]\n",
    "    zen = [np.cos(decl),0,np.sin(decl)]\n",
    "    north=np.cross(zen,east)\n",
    "\n",
    "    proj_mat = np.vstack([east,north,zen]).T\n",
    "\n",
    "    nb = N*(N-1)//2\n",
    "    \n",
    "#     print(\"Num baselines = \", nb)\n",
    "\n",
    "    uvw=np.zeros((nb,3))\n",
    "    \n",
    "#     print(f\"Vertical scatter in array {arr} is {np.std(xyz[:2]):4.2f} m\")\n",
    "\n",
    "    count=0\n",
    "    for i in range(N):\n",
    "        for j in range(i+1,N):\n",
    "            uvw[count,:] = xyz[i,:]-xyz[j,:] #Baselines in m, in Earth Center ref frame. will project later\n",
    "            count+=1\n",
    "#     print(f\"Max baseline for array {arr} is {np.max(np.sqrt(np.sum(uvw**2,axis=1))):4.2f} m\")\n",
    "    uvw=np.vstack([uvw,-uvw])*freq/3e8 # since image is real, it's FT needs to bbe hermitian conjugate F*(-k) = F(k) = 1\n",
    "    return xyz,uvw,proj_mat"
   ]
  },
  {
   "cell_type": "code",
   "execution_count": 9,
   "id": "4ec0ccdd",
   "metadata": {},
   "outputs": [],
   "source": [
    "rms = lambda x: np.sqrt(np.mean(x**2))\n"
   ]
  },
  {
   "cell_type": "code",
   "execution_count": 47,
   "id": "f9b1be71",
   "metadata": {},
   "outputs": [
    {
     "name": "stdout",
     "output_type": "stream",
     "text": [
      "Frequency is 1.40 GHz\n",
      "FWHM in arcsec is: 1767.9840535465398\n"
     ]
    }
   ],
   "source": [
    "# UVW frame centered at source with declination decl\n",
    "\n",
    "array='d'\n",
    "freq=1.42e9\n",
    "xyz,uvw,proj_mat=get_uvw(arr=array,freq=freq) #source at zenith\n",
    "\n",
    "# Dishes are 25m wide\n",
    "FWHM = 3e8/1.4e9/25\n",
    "FWHM=np.rad2deg(FWHM)\n",
    "\n",
    "print(\"FWHM in arcsec is:\", FWHM*3600)\n",
    "\n",
    "decl=34.0784\n",
    "#source overhead\n",
    "# mydecl=(decl)*np.pi/180\n",
    "# source1_dir = [np.cos(mydecl),0,np.sin(mydecl)]\n",
    "mydecl=(decl-FWHM)*np.pi/180 #Second source 1 FWHM to south\n",
    "source2_dir = [np.cos(mydecl),0,np.sin(mydecl)]\n",
    "\n",
    "# n1=source1_dir@proj_mat   #I will work in a rotated coordinate frame (centered on the source)\n",
    "n2=source2_dir@proj_mat\n",
    "\n",
    "uvw_source1 = uvw.copy() \n",
    "uvw_source1[:] = uvw_source1@proj_mat  # baselines in source1 UVW coordinate frame\n",
    "uvw_flat_source1 = uvw_source1.copy()\n",
    "uvw_flat_source1[:,2]=0 #0 out the w term to make all baselines 2D in source1 UVW plane\n",
    "#path length difference of sources to the baselines. "
   ]
  },
  {
   "cell_type": "code",
   "execution_count": 48,
   "id": "a381145c",
   "metadata": {},
   "outputs": [],
   "source": [
    "pathdiff = uvw_flat_source1@n2"
   ]
  },
  {
   "cell_type": "code",
   "execution_count": 46,
   "id": "bbfac778",
   "metadata": {},
   "outputs": [
    {
     "name": "stdout",
     "output_type": "stream",
     "text": [
      "76.740680736981\n"
     ]
    }
   ],
   "source": [
    "print(2*np.pi*rms(pathdiff)) # at 1.42 GHz phase has changed by 1 rad"
   ]
  },
  {
   "cell_type": "code",
   "execution_count": 49,
   "id": "f33bb312",
   "metadata": {},
   "outputs": [
    {
     "name": "stdout",
     "output_type": "stream",
     "text": [
      "75.65982607871368\n"
     ]
    }
   ],
   "source": [
    "print(2*np.pi*rms(pathdiff)) # phase at 1.4 GHz "
   ]
  },
  {
   "cell_type": "markdown",
   "id": "d8f23dfc",
   "metadata": {},
   "source": [
    "### D array has short baselines, and thus can tolerate a large span of bandwidth. Need channel resolution $<= 200 MHz$."
   ]
  },
  {
   "cell_type": "code",
   "execution_count": 65,
   "id": "fdcf870a",
   "metadata": {},
   "outputs": [
    {
     "name": "stdout",
     "output_type": "stream",
     "text": [
      "Frequency is 1.40 GHz\n",
      "FWHM in arcsec is: 1767.9840535465398\n"
     ]
    }
   ],
   "source": [
    "# UVW frame centered at source with declination decl\n",
    "\n",
    "array='a'\n",
    "freq=1.4006e9\n",
    "xyz,uvw,proj_mat=get_uvw(arr=array,freq=freq) #source at zenith\n",
    "\n",
    "# Dishes are 25m wide\n",
    "FWHM = 3e8/1.4e9/25\n",
    "FWHM=np.rad2deg(FWHM)\n",
    "\n",
    "print(\"FWHM in arcsec is:\", FWHM*3600)\n",
    "\n",
    "decl=34.0784\n",
    "#source overhead\n",
    "# mydecl=(decl)*np.pi/180\n",
    "# source1_dir = [np.cos(mydecl),0,np.sin(mydecl)]\n",
    "mydecl=(decl-FWHM)*np.pi/180 #Second source 1 FWHM to south\n",
    "source2_dir = [np.cos(mydecl),0,np.sin(mydecl)]\n",
    "\n",
    "# n1=source1_dir@proj_mat   #I will work in a rotated coordinate frame (centered on the source)\n",
    "n2=source2_dir@proj_mat\n",
    "\n",
    "uvw_source1 = uvw.copy() \n",
    "uvw_source1[:] = uvw_source1@proj_mat  # baselines in source1 UVW coordinate frame\n",
    "uvw_flat_source1 = uvw_source1.copy()\n",
    "uvw_flat_source1[:,2]=0 #0 out the w term to make all baselines 2D in source1 UVW plane\n",
    "#path length difference of sources to the baselines. "
   ]
  },
  {
   "cell_type": "code",
   "execution_count": 66,
   "id": "83b964b3",
   "metadata": {},
   "outputs": [],
   "source": [
    "pathdiff = uvw_flat_source1@n2"
   ]
  },
  {
   "cell_type": "code",
   "execution_count": 67,
   "id": "7b1719be",
   "metadata": {},
   "outputs": [
    {
     "name": "stdout",
     "output_type": "stream",
     "text": [
      "2669.8624930238393\n"
     ]
    }
   ],
   "source": [
    "print(2*np.pi*rms(pathdiff)) # at 1.4006 GHz phase has changed by 1 rad"
   ]
  },
  {
   "cell_type": "code",
   "execution_count": 52,
   "id": "b5723c8c",
   "metadata": {},
   "outputs": [
    {
     "name": "stdout",
     "output_type": "stream",
     "text": [
      "2668.7187564139476\n"
     ]
    }
   ],
   "source": [
    "print(2*np.pi*rms(pathdiff)) # phase at 1.4 GHz "
   ]
  },
  {
   "cell_type": "markdown",
   "id": "aa655d0c",
   "metadata": {},
   "source": [
    "### A array has larger baselines, and thus smearing occurs in short span of bandwidth. Need channel resolution $<= 6 MHz$."
   ]
  },
  {
   "cell_type": "code",
   "execution_count": null,
   "id": "4d239906",
   "metadata": {},
   "outputs": [],
   "source": []
  }
 ],
 "metadata": {
  "kernelspec": {
   "display_name": "Python 3 (ipykernel)",
   "language": "python",
   "name": "python3"
  },
  "language_info": {
   "codemirror_mode": {
    "name": "ipython",
    "version": 3
   },
   "file_extension": ".py",
   "mimetype": "text/x-python",
   "name": "python",
   "nbconvert_exporter": "python",
   "pygments_lexer": "ipython3",
   "version": "3.8.10"
  }
 },
 "nbformat": 4,
 "nbformat_minor": 5
}
