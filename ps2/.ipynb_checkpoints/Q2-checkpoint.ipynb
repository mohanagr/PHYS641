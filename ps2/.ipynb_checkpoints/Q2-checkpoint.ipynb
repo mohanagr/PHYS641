{
 "cells": [
  {
   "cell_type": "code",
   "execution_count": 1,
   "id": "e4750f7d",
   "metadata": {},
   "outputs": [],
   "source": [
    "import numpy as np\n",
    "from matplotlib import pyplot as plt"
   ]
  },
  {
   "cell_type": "code",
   "execution_count": 95,
   "id": "9470aa64",
   "metadata": {},
   "outputs": [],
   "source": [
    "x=np.linspace(-1,1,1001)\n",
    "d=np.exp(x)"
   ]
  },
  {
   "cell_type": "code",
   "execution_count": 108,
   "id": "f9210168",
   "metadata": {},
   "outputs": [],
   "source": [
    "A1=np.polynomial.chebyshev.chebvander(x,6)"
   ]
  },
  {
   "cell_type": "code",
   "execution_count": 69,
   "id": "d4363a33",
   "metadata": {},
   "outputs": [],
   "source": [
    "u,s,v=np.linalg.svd(A1)"
   ]
  },
  {
   "cell_type": "code",
   "execution_count": 70,
   "id": "45df6f02",
   "metadata": {},
   "outputs": [
    {
     "name": "stdout",
     "output_type": "stream",
     "text": [
      "condition number is: 2.8172113877534866\n"
     ]
    }
   ],
   "source": [
    "print(\"condition number is:\", s.max()/s.min()) "
   ]
  },
  {
   "cell_type": "code",
   "execution_count": 112,
   "id": "e7d60b59",
   "metadata": {},
   "outputs": [],
   "source": [
    "A2=np.polynomial.chebyshev.chebvander(x,70)"
   ]
  },
  {
   "cell_type": "code",
   "execution_count": 97,
   "id": "aec4af59",
   "metadata": {},
   "outputs": [],
   "source": [
    "u,s,v=np.linalg.svd(A2)"
   ]
  },
  {
   "cell_type": "code",
   "execution_count": 98,
   "id": "e4f86e71",
   "metadata": {},
   "outputs": [
    {
     "name": "stdout",
     "output_type": "stream",
     "text": [
      "condition number is: 5.2093144924998915\n"
     ]
    }
   ],
   "source": [
    "print(\"condition number is:\", s.max()/s.min()) "
   ]
  },
  {
   "cell_type": "markdown",
   "id": "c1f29d13",
   "metadata": {},
   "source": [
    "STAYS STABLE WITH HIGHER ORDER"
   ]
  },
  {
   "cell_type": "code",
   "execution_count": 131,
   "id": "9f7c7abf",
   "metadata": {},
   "outputs": [
    {
     "data": {
      "text/plain": [
       "<matplotlib.legend.Legend at 0x7f89fc0f9610>"
      ]
     },
     "execution_count": 131,
     "metadata": {},
     "output_type": "execute_result"
    },
    {
     "data": {
      "image/png": "[encoded data removed]",
      "text/plain": [
       "<Figure size 432x288 with 1 Axes>"
      ]
     },
     "metadata": {
      "needs_background": "light"
     },
     "output_type": "display_data"
    }
   ],
   "source": [
    "#first fit with order 7\n",
    "u,s,v=np.linalg.svd(A1)\n",
    "S=np.eye(s.shape[0])*s\n",
    "U=u[:,:s.shape[0]].copy()\n",
    "V=v.copy()\n",
    "Sinv=np.linalg.inv(S)\n",
    "pinv=V.T@Sinv@U.T\n",
    "m=pinv@d.reshape(d.shape[0],1) # coefficients\n",
    "pred=np.polynomial.chebyshev.chebval(x,m).flatten() # predicted values\n",
    "plt.plot(x,d,'*',label='data points')\n",
    "plt.plot(x,pred,label='predicted')\n",
    "plt.legend()"
   ]
  },
  {
   "cell_type": "code",
   "execution_count": 110,
   "id": "0378b94e",
   "metadata": {},
   "outputs": [
    {
     "name": "stdout",
     "output_type": "stream",
     "text": [
      " With cheb order 6: max error is 7.984979884856358e-06, and rms is 1.9852832482769786e-06\n"
     ]
    }
   ],
   "source": [
    "err1= d-pred\n",
    "rms1= np.sqrt(np.mean(err1**2))\n",
    "print(f\" With cheb order 6: max error is {err1.max()}, and rms is {rms1}\")"
   ]
  },
  {
   "cell_type": "code",
   "execution_count": 118,
   "id": "6ce4475d",
   "metadata": {},
   "outputs": [
    {
     "data": {
      "text/plain": [
       "<matplotlib.legend.Legend at 0x7f89fbca0760>"
      ]
     },
     "execution_count": 118,
     "metadata": {},
     "output_type": "execute_result"
    },
    {
     "data": {
      "image/png": "[encoded data removed]",
      "text/plain": [
       "<Figure size 432x288 with 1 Axes>"
      ]
     },
     "metadata": {
      "needs_background": "light"
     },
     "output_type": "display_data"
    }
   ],
   "source": [
    "#first fit with order 70\n",
    "u,s,v=np.linalg.svd(A2)\n",
    "S=np.eye(s.shape[0])*s\n",
    "U=u[:,:s.shape[0]].copy()\n",
    "V=v.copy()\n",
    "Sinv=np.linalg.inv(S)\n",
    "pinv=V.T@Sinv@U.T\n",
    "m=pinv@d.reshape(d.shape[0],1) # coefficients\n",
    "\n",
    "# predict based only on truncated values\n",
    "pred=np.polynomial.chebyshev.chebval(x,m[:7]).flatten() # predicted values\n",
    "plt.plot(x,d,'*',label='data points')\n",
    "plt.plot(x,pred,label='predicted')\n",
    "plt.legend()"
   ]
  },
  {
   "cell_type": "code",
   "execution_count": 119,
   "id": "88d17722",
   "metadata": {},
   "outputs": [
    {
     "name": "stdout",
     "output_type": "stream",
     "text": [
      " With cheb order 6: max error is 3.4092623644177422e-06, and rms is 2.2588100063290612e-06\n"
     ]
    }
   ],
   "source": [
    "err2= d-pred\n",
    "rms2= np.sqrt(np.mean(err2**2))\n",
    "print(f\" With cheb order 6: max error is {err2.max()}, and rms is {rms2}\")"
   ]
  },
  {
   "cell_type": "code",
   "execution_count": 120,
   "id": "2d74fac1",
   "metadata": {},
   "outputs": [
    {
     "name": "stdout",
     "output_type": "stream",
     "text": [
      "3.4092623784377774e-06\n"
     ]
    }
   ],
   "source": [
    "# IF i keep just first 7 terms, I expect a max error of:\n",
    "\n",
    "max_expected = np.sum(np.abs(m[7:]))\n",
    "print(max_expected)\n",
    "\n",
    "### EXPECTED MAX ERROR AND OBTAINED MAX ERROR AGREE VERY WELL. "
   ]
  },
  {
   "cell_type": "code",
   "execution_count": 124,
   "id": "3140be46",
   "metadata": {},
   "outputs": [
    {
     "name": "stdout",
     "output_type": "stream",
     "text": [
      "2.3421429715105218\n",
      "13.777719541505009\n"
     ]
    }
   ],
   "source": [
    "### COMPARED TO PREVIOUS CASE\n",
    "\n",
    "print(err1.max()/err2.max()) ## MAX ERROR DOWN BY 2x\n",
    "\n",
    "print((rms2-rms1)*100/rms1) ## RMS UP by ~14%"
   ]
  },
  {
   "cell_type": "code",
   "execution_count": null,
   "id": "d6b52ad6",
   "metadata": {},
   "outputs": [],
   "source": [
    "m"
   ]
  }
 ],
 "metadata": {
  "kernelspec": {
   "display_name": "Python 3 (ipykernel)",
   "language": "python",
   "name": "python3"
  },
  "language_info": {
   "codemirror_mode": {
    "name": "ipython",
    "version": 3
   },
   "file_extension": ".py",
   "mimetype": "text/x-python",
   "name": "python",
   "nbconvert_exporter": "python",
   "pygments_lexer": "ipython3",
   "version": "3.8.10"
  }
 },
 "nbformat": 4,
 "nbformat_minor": 5
}
