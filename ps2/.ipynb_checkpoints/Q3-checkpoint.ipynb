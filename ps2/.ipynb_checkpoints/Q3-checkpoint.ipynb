{
 "cells": [
  {
   "cell_type": "code",
   "execution_count": 1,
   "id": "446779c3",
   "metadata": {},
   "outputs": [],
   "source": [
    "import numpy as np\n",
    "from matplotlib import pyplot as plt"
   ]
  },
  {
   "cell_type": "code",
   "execution_count": 2,
   "id": "bd07cbf5",
   "metadata": {},
   "outputs": [],
   "source": [
    "size=100000\n",
    "N=np.eye(10)+1\n",
    "w,v = np.linalg.eigh(N)"
   ]
  },
  {
   "cell_type": "code",
   "execution_count": 9,
   "id": "89740f7a",
   "metadata": {},
   "outputs": [],
   "source": [
    "#both the below methods are equivalent. "
   ]
  },
  {
   "cell_type": "code",
   "execution_count": 3,
   "id": "2aae304a",
   "metadata": {},
   "outputs": [],
   "source": [
    "sim = np.zeros((N.shape[0],size),dtype='float64')\n",
    "for i in range(N.shape[0]):\n",
    "    sim[i,:] = np.sqrt(w[i])*np.random.randn(sim.shape[1])"
   ]
  },
  {
   "cell_type": "code",
   "execution_count": 3,
   "id": "e372234b",
   "metadata": {},
   "outputs": [],
   "source": [
    "sim = np.zeros((N.shape[0],size),dtype='float64')\n",
    "for i in range(size):\n",
    "    sim[:,i] = np.sqrt(w)*np.random.randn(sim.shape[0])"
   ]
  },
  {
   "cell_type": "code",
   "execution_count": 4,
   "id": "f38dbeb3",
   "metadata": {},
   "outputs": [],
   "source": [
    "n_new = v@sim"
   ]
  },
  {
   "cell_type": "code",
   "execution_count": 5,
   "id": "6d329193",
   "metadata": {},
   "outputs": [
    {
     "data": {
      "text/plain": [
       "(10, 100000)"
      ]
     },
     "execution_count": 5,
     "metadata": {},
     "output_type": "execute_result"
    }
   ],
   "source": [
    "n_new.shape"
   ]
  },
  {
   "cell_type": "code",
   "execution_count": 6,
   "id": "b7e69068",
   "metadata": {},
   "outputs": [
    {
     "name": "stdout",
     "output_type": "stream",
     "text": [
      "(10, 10)\n"
     ]
    }
   ],
   "source": [
    "N_new = np.zeros(N.shape,dtype=N.dtype)\n",
    "print(N_new.shape)"
   ]
  },
  {
   "cell_type": "code",
   "execution_count": 7,
   "id": "7af8a4c6",
   "metadata": {},
   "outputs": [],
   "source": [
    "for i in range(sim.shape[1]):\n",
    "    r = n_new[:,i:i+1].copy()\n",
    "    N_new[:] = N_new + r@r.T\n",
    "N_new[:] = N_new/sim.shape[1]"
   ]
  },
  {
   "cell_type": "code",
   "execution_count": 8,
   "id": "4276481d",
   "metadata": {},
   "outputs": [
    {
     "data": {
      "image/png": "[encoded data removed]",
      "text/plain": [
       "<Figure size 720x360 with 4 Axes>"
      ]
     },
     "metadata": {
      "needs_background": "light"
     },
     "output_type": "display_data"
    }
   ],
   "source": [
    "f=plt.gcf()\n",
    "f.set_size_inches(10,5)\n",
    "plt.subplot(121)\n",
    "plt.title(\"My estimate of corr noise matrx\")\n",
    "plt.imshow(N_new,aspect='auto',interpolation='none')\n",
    "plt.colorbar()\n",
    "\n",
    "plt.subplot(122)\n",
    "plt.title(\"Residual between estimated and true N\")\n",
    "plt.imshow(N-N_new,aspect='auto',interpolation='none')\n",
    "plt.colorbar()\n",
    "plt.tight_layout()"
   ]
  },
  {
   "cell_type": "code",
   "execution_count": null,
   "id": "088147c9",
   "metadata": {},
   "outputs": [],
   "source": []
  }
 ],
 "metadata": {
  "kernelspec": {
   "display_name": "Python 3 (ipykernel)",
   "language": "python",
   "name": "python3"
  },
  "language_info": {
   "codemirror_mode": {
    "name": "ipython",
    "version": 3
   },
   "file_extension": ".py",
   "mimetype": "text/x-python",
   "name": "python",
   "nbconvert_exporter": "python",
   "pygments_lexer": "ipython3",
   "version": "3.8.10"
  }
 },
 "nbformat": 4,
 "nbformat_minor": 5
}
