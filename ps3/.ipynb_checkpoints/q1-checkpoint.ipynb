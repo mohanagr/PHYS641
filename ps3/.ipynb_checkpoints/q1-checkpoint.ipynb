{
 "cells": [
  {
   "cell_type": "code",
   "execution_count": 1,
   "id": "5a46c8b5",
   "metadata": {},
   "outputs": [],
   "source": [
    "import numpy as np\n",
    "import matplotlib.pyplot as plt\n",
    "from astropy.io import fits\n",
    "import tools"
   ]
  },
  {
   "cell_type": "code",
   "execution_count": 2,
   "id": "a2b65fca",
   "metadata": {},
   "outputs": [],
   "source": [
    "hdul=fits.open(\"advact_tt_patch.fits\")\n",
    "mymap=hdul[0].data\n",
    "hdul.close()\n",
    "mymap=np.asarray(mymap,dtype='float')"
   ]
  },
  {
   "cell_type": "code",
   "execution_count": 72,
   "id": "3fa1ecb7",
   "metadata": {},
   "outputs": [],
   "source": [
    "nx,ny = mymap.shape\n",
    "width=8"
   ]
  },
  {
   "cell_type": "code",
   "execution_count": 90,
   "id": "0a4d62b6",
   "metadata": {},
   "outputs": [
    {
     "data": {
      "text/plain": [
       "<matplotlib.colorbar.Colorbar at 0x7f1b26daec40>"
      ]
     },
     "execution_count": 90,
     "metadata": {},
     "output_type": "execute_result"
    },
    {
     "data": {
      "image/png": "[encoded data removed]",
      "text/plain": [
       "<Figure size 432x288 with 2 Axes>"
      ]
     },
     "metadata": {
      "needs_background": "light"
     },
     "output_type": "display_data"
    }
   ],
   "source": [
    "plt.imshow(mymap[nx//2-width-2+3:nx//2+width-2-3,ny//2-width-2+4:ny//2+width-2-2],aspect='equal')\n",
    "plt.colorbar()"
   ]
  },
  {
   "cell_type": "code",
   "execution_count": 91,
   "id": "0fac7c40",
   "metadata": {},
   "outputs": [
    {
     "name": "stdout",
     "output_type": "stream",
     "text": [
      "(10, 10)\n"
     ]
    }
   ],
   "source": [
    "ss=mymap[nx//2-width-2+3:nx//2+width-2-3,ny//2-width-2+4:ny//2+width-2-2].copy()\n",
    "print(ss.shape)"
   ]
  },
  {
   "cell_type": "code",
   "execution_count": 92,
   "id": "a8f6be04",
   "metadata": {},
   "outputs": [],
   "source": [
    "snip=ss.copy()"
   ]
  },
  {
   "cell_type": "code",
   "execution_count": 93,
   "id": "8d61c669",
   "metadata": {},
   "outputs": [
    {
     "data": {
      "text/plain": [
       "<matplotlib.colorbar.Colorbar at 0x7f1b26a50850>"
      ]
     },
     "execution_count": 93,
     "metadata": {},
     "output_type": "execute_result"
    },
    {
     "data": {
      "image/png": "[encoded data removed]",
      "text/plain": [
       "<Figure size 432x288 with 2 Axes>"
      ]
     },
     "metadata": {
      "needs_background": "light"
     },
     "output_type": "display_data"
    }
   ],
   "source": [
    "plt.imshow(snip,aspect='equal')\n",
    "plt.colorbar()"
   ]
  },
  {
   "cell_type": "code",
   "execution_count": 102,
   "id": "2230992c",
   "metadata": {},
   "outputs": [],
   "source": [
    "params = [-100,1,-2,4]\n",
    "mygauss = tools.gauss2d(params,width)"
   ]
  },
  {
   "cell_type": "code",
   "execution_count": 103,
   "id": "a04f5461",
   "metadata": {},
   "outputs": [
    {
     "data": {
      "text/plain": [
       "<matplotlib.image.AxesImage at 0x7f1b26803c10>"
      ]
     },
     "execution_count": 103,
     "metadata": {},
     "output_type": "execute_result"
    },
    {
     "data": {
      "image/png": "[encoded data removed]",
      "text/plain": [
       "<Figure size 432x288 with 1 Axes>"
      ]
     },
     "metadata": {
      "needs_background": "light"
     },
     "output_type": "display_data"
    }
   ],
   "source": [
    "plt.imshow(mygauss,aspect='equal')"
   ]
  },
  {
   "cell_type": "code",
   "execution_count": 15,
   "id": "a91ae7cc",
   "metadata": {},
   "outputs": [],
   "source": [
    "snip = (snip-np.min(snip))/(np.max(snip)-np.min(snip))"
   ]
  },
  {
   "cell_type": "code",
   "execution_count": 10,
   "id": "b7a78082",
   "metadata": {},
   "outputs": [
    {
     "data": {
      "text/plain": [
       "array([[-0.33968254, -0.08412698, -0.31904762, ..., -0.60793651,\n",
       "        -0.79365079, -0.44603175],\n",
       "       [-0.42698413, -0.33809524, -0.45873016, ..., -0.67777778,\n",
       "        -0.68095238, -0.65555556],\n",
       "       [-0.13650794, -0.4       , -0.33174603, ..., -0.68412698,\n",
       "        -0.6047619 , -0.64603175],\n",
       "       ...,\n",
       "       [-0.47619048, -0.45873016, -0.42539683, ..., -0.56825397,\n",
       "        -0.35714286, -0.33968254],\n",
       "       [-0.55396825, -0.34285714, -0.64126984, ..., -0.60793651,\n",
       "        -0.50634921, -0.75238095],\n",
       "       [-0.44444444, -0.28730159, -0.37142857, ..., -0.66349206,\n",
       "        -0.37301587, -0.54444444]])"
      ]
     },
     "execution_count": 10,
     "metadata": {},
     "output_type": "execute_result"
    }
   ],
   "source": [
    "snip"
   ]
  },
  {
   "cell_type": "code",
   "execution_count": 107,
   "id": "2c2cec71",
   "metadata": {
    "scrolled": true
   },
   "outputs": [
    {
     "name": "stdout",
     "output_type": "stream",
     "text": [
      "(100,)\n",
      "init pars are: [-400, 1, -2, 4]\n",
      "yep\n",
      "4 len pars\n",
      "on iteration  0  chisq is  646277.6927394615  taking step  [-336.2202981     0.76571409   -1.4193784     4.19925703] with lambda  10\n",
      "4 len pars\n",
      "step accepted. new m is [-336.2202981     0.76571409   -1.4193784     4.19925703]\n",
      "on iteration  1  chisq is  424030.060802355  taking step  [-312.62149019    0.71248588   -1.25961773    4.56465126] with lambda  6.666666666666667\n",
      "4 len pars\n",
      "step accepted. new m is [-312.62149019    0.71248588   -1.25961773    4.56465126]\n",
      "on iteration  2  chisq is  397285.0497548232  taking step  [-304.94896136    0.71492278   -1.23622828    4.76665368] with lambda  4.444444444444445\n",
      "4 len pars\n",
      "step accepted. new m is [-304.94896136    0.71492278   -1.23622828    4.76665368]\n",
      "on iteration  3  chisq is  394248.87858162844  taking step  [-302.87763233    0.71853853   -1.23520763    4.82609133] with lambda  2.9629629629629632\n",
      "4 len pars\n",
      "step accepted. new m is [-302.87763233    0.71853853   -1.23520763    4.82609133]\n",
      "on iteration  4  chisq is  394065.7881398349  taking step  [-302.43024109    0.71912381   -1.23503338    4.8375837 ] with lambda  1.9753086419753088\n",
      "4 len pars\n",
      "step accepted. new m is [-302.43024109    0.71912381   -1.23503338    4.8375837 ]\n",
      "on iteration  5  chisq is  394059.21575204853  taking step  [-302.35501621    0.71917202   -1.23496703    4.83941307] with lambda  1.316872427983539\n",
      "4 len pars\n",
      "step accepted. new m is [-302.35501621    0.71917202   -1.23496703    4.83941307]\n",
      "on iteration  6  chisq is  394059.04608479247  taking step  [-302.34466079    0.71917108   -1.23495134    4.83966782] with lambda  0.877914951989026\n",
      "4 len pars\n",
      "step accepted. new m is [-302.34466079    0.71917108   -1.23495134    4.83966782]\n",
      "on iteration  7  chisq is  394059.0428049866  taking step  [-302.34340613    0.71916994   -1.23494852    4.83969968] with lambda  0.5852766346593506\n",
      "4 len pars\n",
      "step accepted. new m is [-302.34340613    0.71916994   -1.23494852    4.83969968]\n",
      "CHAIN CONVERGED\n"
     ]
    }
   ],
   "source": [
    "dp = np.asarray([0.001,0.001,0.001,0.001])/10\n",
    "params = [-400,1,-2,4]\n",
    "\n",
    "#let's fit a gaussian to snip\n",
    "y=np.ravel(snip)\n",
    "width=5\n",
    "print(y.shape)\n",
    "fitp,pcov=tools.fit_lm(tools.gauss2d,params,y,dp,width,lmbda=10,niter=50000,rtol=1e-8)"
   ]
  },
  {
   "cell_type": "code",
   "execution_count": 108,
   "id": "23fe7a9c",
   "metadata": {},
   "outputs": [
    {
     "name": "stdout",
     "output_type": "stream",
     "text": [
      "62.77111355313992 stddev of resiudals\n"
     ]
    },
    {
     "data": {
      "text/plain": [
       "<matplotlib.colorbar.Colorbar at 0x7f1b2673bc10>"
      ]
     },
     "execution_count": 108,
     "metadata": {},
     "output_type": "execute_result"
    },
    {
     "data": {
      "image/png": "[encoded data removed]",
      "text/plain": [
       "<Figure size 432x288 with 2 Axes>"
      ]
     },
     "metadata": {
      "needs_background": "light"
     },
     "output_type": "display_data"
    }
   ],
   "source": [
    "predsnip = tools.gauss2d(fitp,width)\n",
    "res=snip-predsnip\n",
    "print(res.std(), \"stddev of resiudals\")\n",
    "plt.imshow(res,aspect='auto')\n",
    "plt.colorbar()\n"
   ]
  },
  {
   "cell_type": "code",
   "execution_count": 109,
   "id": "ce1a5728",
   "metadata": {},
   "outputs": [
    {
     "data": {
      "text/plain": [
       "81.03105330674161"
      ]
     },
     "execution_count": 109,
     "metadata": {},
     "output_type": "execute_result"
    }
   ],
   "source": []
  },
  {
   "cell_type": "markdown",
   "id": "a7bb2ee1",
   "metadata": {},
   "source": [
    "## Adding a rotation will help. but residual RMS (60) are lower than signal level (300) in the map."
   ]
  },
  {
   "cell_type": "code",
   "execution_count": null,
   "id": "a89daa55",
   "metadata": {},
   "outputs": [],
   "source": []
  }
 ],
 "metadata": {
  "kernelspec": {
   "display_name": "Python 3 (ipykernel)",
   "language": "python",
   "name": "python3"
  },
  "language_info": {
   "codemirror_mode": {
    "name": "ipython",
    "version": 3
   },
   "file_extension": ".py",
   "mimetype": "text/x-python",
   "name": "python",
   "nbconvert_exporter": "python",
   "pygments_lexer": "ipython3",
   "version": "3.8.10"
  }
 },
 "nbformat": 4,
 "nbformat_minor": 5
}
