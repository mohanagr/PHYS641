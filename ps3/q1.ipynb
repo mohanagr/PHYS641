{
 "cells": [
  {
   "cell_type": "code",
   "execution_count": 1,
   "id": "5a46c8b5",
   "metadata": {},
   "outputs": [],
   "source": [
    "import numpy as np\n",
    "import matplotlib.pyplot as plt\n",
    "from astropy.io import fits\n",
    "import tools"
   ]
  },
  {
   "cell_type": "code",
   "execution_count": 2,
   "id": "a2b65fca",
   "metadata": {},
   "outputs": [],
   "source": [
    "hdul=fits.open(\"advact_tt_patch.fits\")\n",
    "mymap=hdul[0].data\n",
    "hdul.close()\n",
    "mymap=np.asarray(mymap,dtype='float')"
   ]
  },
  {
   "cell_type": "code",
   "execution_count": 3,
   "id": "3fa1ecb7",
   "metadata": {},
   "outputs": [],
   "source": [
    "nx,ny = mymap.shape\n",
    "width=10"
   ]
  },
  {
   "cell_type": "code",
   "execution_count": 4,
   "id": "0a4d62b6",
   "metadata": {},
   "outputs": [
    {
     "data": {
      "text/plain": [
       "<matplotlib.colorbar.Colorbar at 0x7f7d74e48f40>"
      ]
     },
     "execution_count": 4,
     "metadata": {},
     "output_type": "execute_result"
    },
    {
     "data": {
      "image/png": "[encoded data removed]",
      "text/plain": [
       "<Figure size 432x288 with 2 Axes>"
      ]
     },
     "metadata": {
      "needs_background": "light"
     },
     "output_type": "display_data"
    }
   ],
   "source": [
    "plt.imshow(mymap[nx//2-width-2+3:nx//2+width-2-3,ny//2-width-2+4:ny//2+width-2-2],aspect='equal')\n",
    "plt.colorbar()"
   ]
  },
  {
   "cell_type": "code",
   "execution_count": 5,
   "id": "0fac7c40",
   "metadata": {},
   "outputs": [
    {
     "name": "stdout",
     "output_type": "stream",
     "text": [
      "(14, 14)\n"
     ]
    }
   ],
   "source": [
    "ss=mymap[nx//2-width-2+3:nx//2+width-2-3,ny//2-width-2+4:ny//2+width-2-2].copy()\n",
    "print(ss.shape)"
   ]
  },
  {
   "cell_type": "code",
   "execution_count": 6,
   "id": "a8f6be04",
   "metadata": {},
   "outputs": [],
   "source": [
    "snip=ss.copy()"
   ]
  },
  {
   "cell_type": "code",
   "execution_count": 7,
   "id": "29cd66c3",
   "metadata": {},
   "outputs": [],
   "source": [
    "snip = (snip-np.max(snip))/(np.max(snip)-np.min(snip))"
   ]
  },
  {
   "cell_type": "code",
   "execution_count": 8,
   "id": "8d61c669",
   "metadata": {},
   "outputs": [
    {
     "data": {
      "text/plain": [
       "<matplotlib.colorbar.Colorbar at 0x7f369d453b80>"
      ]
     },
     "execution_count": 8,
     "metadata": {},
     "output_type": "execute_result"
    },
    {
     "data": {
      "image/png": "[encoded data removed]",
      "text/plain": [
       "<Figure size 432x288 with 2 Axes>"
      ]
     },
     "metadata": {
      "needs_background": "light"
     },
     "output_type": "display_data"
    }
   ],
   "source": [
    "plt.imshow(snip,aspect='equal')\n",
    "plt.colorbar()"
   ]
  },
  {
   "cell_type": "code",
   "execution_count": 7,
   "id": "700d8ef9",
   "metadata": {},
   "outputs": [],
   "source": [
    "width=ss.shape[0]//2"
   ]
  },
  {
   "cell_type": "code",
   "execution_count": 8,
   "id": "2230992c",
   "metadata": {},
   "outputs": [],
   "source": [
    "params = [-1,1,-1,3,5]\n",
    "mygauss = tools.gauss2d(params,width)"
   ]
  },
  {
   "cell_type": "code",
   "execution_count": 9,
   "id": "a04f5461",
   "metadata": {},
   "outputs": [
    {
     "data": {
      "text/plain": [
       "<matplotlib.image.AxesImage at 0x7f7d72d177f0>"
      ]
     },
     "execution_count": 9,
     "metadata": {},
     "output_type": "execute_result"
    },
    {
     "data": {
      "image/png": "[encoded data removed]",
      "text/plain": [
       "<Figure size 432x288 with 1 Axes>"
      ]
     },
     "metadata": {
      "needs_background": "light"
     },
     "output_type": "display_data"
    }
   ],
   "source": [
    "plt.imshow(mygauss,aspect='equal')"
   ]
  },
  {
   "cell_type": "code",
   "execution_count": 11,
   "id": "2c2cec71",
   "metadata": {
    "scrolled": true
   },
   "outputs": [
    {
     "name": "stdout",
     "output_type": "stream",
     "text": [
      "(196,)\n",
      "init pars are: [-1, 1, -1, 3, 5]\n",
      "yep\n",
      "5 len pars\n",
      "on iteration  0  chisq is  7658786.512572496  taking step  [-274.09442708  -22.72216921   -6.62489763  132.39545942   25.77045316] with lambda  10\n",
      "5 len pars\n",
      "step accepted. new m is [-274.09442708  -22.72216921   -6.62489763  132.39545942   25.77045316]\n",
      "on iteration  1  chisq is  2744005.135615076  taking step  [-190.86077048  -33.24576796   16.51989091  132.42046582  -38.65227433] with lambda  6.666666666666667\n",
      "5 len pars\n",
      "step accepted. new m is [-190.86077048  -33.24576796   16.51989091  132.42046582  -38.65227433]\n",
      "on iteration  2  chisq is  1562221.4875600683  taking step  [-139.41690869  -35.29276718   -8.22000156  134.7917322   -50.93926774] with lambda  4.444444444444445\n",
      "5 len pars\n",
      "step rejected. old m is [-190.86077048  -33.24576796   16.51989091  132.42046582  -38.65227433]\n",
      "on iteration  3  chisq is  1562221.4875600683  taking step  [-237.29531694  -14.75558783    3.13168719  138.3989173   -22.69580384] with lambda  8.88888888888889\n",
      "5 len pars\n",
      "step rejected. old m is [-190.86077048  -33.24576796   16.51989091  132.42046582  -38.65227433]\n",
      "on iteration  4  chisq is  1562221.4875600683  taking step  [-134.74307683  -38.25903057   -5.29135458  131.99883002    6.77178194] with lambda  17.77777777777778\n",
      "5 len pars\n",
      "step rejected. old m is [-190.86077048  -33.24576796   16.51989091  132.42046582  -38.65227433]\n",
      "on iteration  5  chisq is  1562221.4875600683  taking step  [-221.2707028   -22.74837379   24.7983547   135.83147952  -38.49799187] with lambda  35.55555555555556\n",
      "5 len pars\n",
      "step rejected. old m is [-190.86077048  -33.24576796   16.51989091  132.42046582  -38.65227433]\n",
      "on iteration  6  chisq is  1562221.4875600683  taking step  [-182.15109357  -34.62760313   20.39451789  132.27050114  -50.74015337] with lambda  71.11111111111111\n",
      "5 len pars\n",
      "step rejected. old m is [-190.86077048  -33.24576796   16.51989091  132.42046582  -38.65227433]\n",
      "on iteration  7  chisq is  1562221.4875600683  taking step  [-192.29503697  -32.24193365    8.5310849   132.77606738  -43.62628636] with lambda  142.22222222222223\n",
      "5 len pars\n",
      "step accepted. new m is [-192.29503697  -32.24193365    8.5310849   132.77606738  -43.62628636]\n",
      "on iteration  8  chisq is  1512809.5392022638  taking step  [-185.84432158  -33.62982997    2.59658482  132.58284978  -45.04930609] with lambda  94.81481481481482\n",
      "5 len pars\n",
      "step accepted. new m is [-185.84432158  -33.62982997    2.59658482  132.58284978  -45.04930609]\n",
      "on iteration  9  chisq is  1495409.7020949852  taking step  [-182.68976254  -33.47661648   -8.36709055  132.8499697   -43.83653882] with lambda  63.20987654320988\n",
      "5 len pars\n",
      "step accepted. new m is [-182.68976254  -33.47661648   -8.36709055  132.8499697   -43.83653882]\n",
      "on iteration  10  chisq is  1479326.901072612  taking step  [-189.88199818  -29.20856369  -14.55729683  134.25039934  -36.69675666] with lambda  42.13991769547325\n",
      "5 len pars\n",
      "step accepted. new m is [-189.88199818  -29.20856369  -14.55729683  134.25039934  -36.69675666]\n",
      "on iteration  11  chisq is  1466766.725574607  taking step  [-196.13525453  -24.68301816  -10.52529237  135.61906769  -24.93231611] with lambda  28.093278463648833\n",
      "5 len pars\n",
      "step accepted. new m is [-196.13525453  -24.68301816  -10.52529237  135.61906769  -24.93231611]\n",
      "on iteration  12  chisq is  1441135.92129221  taking step  [-186.31619282  -23.16978486    4.13456603  136.34159831   -1.84663033] with lambda  18.72885230909922\n",
      "5 len pars\n",
      "step rejected. old m is [-196.13525453  -24.68301816  -10.52529237  135.61906769  -24.93231611]\n",
      "on iteration  13  chisq is  1441135.92129221  taking step  [-156.66242482  -33.89523796  -11.17911148  133.97734738  -26.88005077] with lambda  37.45770461819844\n",
      "5 len pars\n",
      "step rejected. old m is [-196.13525453  -24.68301816  -10.52529237  135.61906769  -24.93231611]\n",
      "on iteration  14  chisq is  1441135.92129221  taking step  [-209.14961222  -20.05640528    3.1731857   136.94145624  -17.83631727] with lambda  74.91540923639688\n",
      "5 len pars\n",
      "step rejected. old m is [-196.13525453  -24.68301816  -10.52529237  135.61906769  -24.93231611]\n",
      "on iteration  15  chisq is  1441135.92129221  taking step  [-180.94120189  -27.47715317  -19.13245955  135.23942087  -13.17463658] with lambda  149.83081847279377\n",
      "5 len pars\n",
      "step rejected. old m is [-196.13525453  -24.68301816  -10.52529237  135.61906769  -24.93231611]\n",
      "on iteration  16  chisq is  1441135.92129221  taking step  [-195.0397645   -24.85357709  -12.84240163  135.60174702  -38.81748379] with lambda  299.66163694558753\n",
      "5 len pars\n",
      "step rejected. old m is [-196.13525453  -24.68301816  -10.52529237  135.61906769  -24.93231611]\n",
      "on iteration  17  chisq is  1441135.92129221  taking step  [-195.90717731  -24.61486187  -11.77715231  135.64564892  -23.79385951] with lambda  599.3232738911751\n",
      "5 len pars\n",
      "step rejected. old m is [-196.13525453  -24.68301816  -10.52529237  135.61906769  -24.93231611]\n",
      "on iteration  18  chisq is  1441135.92129221  taking step  [-196.49063199  -24.52973736   -9.00993028  135.65392076  -24.90922123] with lambda  1198.6465477823501\n",
      "5 len pars\n",
      "step rejected. old m is [-196.13525453  -24.68301816  -10.52529237  135.61906769  -24.93231611]\n",
      "on iteration  19  chisq is  1441135.92129221  taking step  [-196.07734942  -24.66556514  -10.80916142  135.62576258  -24.37424487] with lambda  2397.2930955647003\n",
      "5 len pars\n",
      "step rejected. old m is [-196.13525453  -24.68301816  -10.52529237  135.61906769  -24.93231611]\n",
      "on iteration  20  chisq is  1441135.92129221  taking step  [-196.23425479  -24.64175217  -10.1867574   135.62836354  -24.88678941] with lambda  4794.5861911294005\n",
      "5 len pars\n",
      "step accepted. new m is [-196.23425479  -24.64175217  -10.1867574   135.62836354  -24.88678941]\n",
      "on iteration  21  chisq is  1440471.6550680343  taking step  [-196.29438579  -24.60236735  -10.05054435  135.6381963   -24.63228396] with lambda  3196.390794086267\n",
      "5 len pars\n",
      "step accepted. new m is [-196.29438579  -24.60236735  -10.05054435  135.6381963   -24.63228396]\n",
      "on iteration  22  chisq is  1439892.8778490853  taking step  [-196.3745075   -24.54587851   -9.86053669  135.65244879  -24.23541217] with lambda  2130.927196057511\n",
      "5 len pars\n",
      "step accepted. new m is [-196.3745075   -24.54587851   -9.86053669  135.65244879  -24.23541217]\n",
      "on iteration  23  chisq is  1438998.8475110433  taking step  [-196.47884268  -24.46520882   -9.58014766  135.6730366   -23.61810357] with lambda  1420.6181307050074\n",
      "5 len pars\n",
      "step accepted. new m is [-196.47884268  -24.46520882   -9.58014766  135.6730366   -23.61810357]\n",
      "on iteration  24  chisq is  1437576.2635835267  taking step  [-196.60504587  -24.3519325    -9.13972876  135.70241114  -22.65229372] with lambda  947.0787538033383\n",
      "5 len pars\n",
      "step accepted. new m is [-196.60504587  -24.3519325    -9.13972876  135.70241114  -22.65229372]\n",
      "on iteration  25  chisq is  1435211.619263729  taking step  [-196.72349736  -24.19991566   -8.40370709  135.74303713  -21.10826616] with lambda  631.3858358688922\n",
      "5 len pars\n",
      "step accepted. new m is [-196.72349736  -24.19991566   -8.40370709  135.74303713  -21.10826616]\n",
      "on iteration  26  chisq is  1430947.8348025437  taking step  [-196.71171503  -24.01910334   -7.07121273  135.7951609   -18.50587347] with lambda  420.92389057926147\n",
      "5 len pars\n",
      "step accepted. new m is [-196.71171503  -24.01910334   -7.07121273  135.7951609   -18.50587347]\n",
      "on iteration  27  chisq is  1421716.3821241874  taking step  [-196.14707082  -23.88184176   -4.26297953  135.84915737  -13.47717761] with lambda  280.61592705284096\n",
      "5 len pars\n",
      "step accepted. new m is [-196.14707082  -23.88184176   -4.26297953  135.84915737  -13.47717761]\n",
      "on iteration  28  chisq is  1387905.7431923342  taking step  [-196.71630535  -23.3122597     2.05065701  135.99519927   -2.12456427] with lambda  187.07728470189397\n",
      "5 len pars\n",
      "step rejected. old m is [-196.14707082  -23.88184176   -4.26297953  135.84915737  -13.47717761]\n",
      "on iteration  29  chisq is  1387905.7431923342  taking step  [-191.20011796  -25.02607748   -5.3700402   135.65416133  -15.56959635] with lambda  374.15456940378795\n",
      "5 len pars\n",
      "step rejected. old m is [-196.14707082  -23.88184176   -4.26297953  135.84915737  -13.47717761]\n",
      "on iteration  30  chisq is  1387905.7431923342  taking step  [-196.59179494  -23.66481303   -1.96171453  135.90128627  -10.44280942] with lambda  748.3091388075759\n",
      "5 len pars\n",
      "step accepted. new m is [-196.59179494  -23.66481303   -1.96171453  135.90128627  -10.44280942]\n",
      "on iteration  31  chisq is  1347390.3004922378  taking step  [-199.14647062  -22.8737973    -1.21401288  136.05676787   -6.21767069] with lambda  498.8727592050506\n",
      "5 len pars\n",
      "step accepted. new m is [-199.14647062  -22.8737973    -1.21401288  136.05676787   -6.21767069]\n",
      "on iteration  32  chisq is  1314922.7039996576  taking step  [-203.3592994   -21.6115557    -1.44978349  136.2959354    -6.87406205] with lambda  332.58183947003374\n",
      "5 len pars\n",
      "step accepted. new m is [-203.3592994   -21.6115557    -1.44978349  136.2959354    -6.87406205]\n",
      "on iteration  33  chisq is  1280891.5915529134  taking step  [-208.02822024  -20.15389167   -1.40427235  136.56388386   -6.63874062] with lambda  221.72122631335583\n",
      "5 len pars\n",
      "step accepted. new m is [-208.02822024  -20.15389167   -1.40427235  136.56388386   -6.63874062]\n",
      "on iteration  34  chisq is  1268227.861955781  taking step  [-212.59733485  -18.57433374   -1.3819677   136.84607517   -6.3809826 ] with lambda  147.81415087557056\n",
      "5 len pars\n",
      "step accepted. new m is [-212.59733485  -18.57433374   -1.3819677   136.84607517   -6.3809826 ]\n",
      "on iteration  35  chisq is  1259446.806232039  taking step  [-216.42902075  -16.90682427   -1.3625947   137.13569986   -6.18977073] with lambda  98.54276725038038\n",
      "5 len pars\n",
      "step accepted. new m is [-216.42902075  -16.90682427   -1.3625947   137.13569986   -6.18977073]\n",
      "on iteration  36  chisq is  1254669.475576621  taking step  [-219.03205707  -15.07904402   -1.35056766  137.43881499   -6.06523182] with lambda  65.69517816692026\n",
      "5 len pars\n",
      "step accepted. new m is [-219.03205707  -15.07904402   -1.35056766  137.43881499   -6.06523182]\n",
      "on iteration  37  chisq is  1252673.875102438  taking step  [-220.32730007  -12.85099292   -1.34420612  137.77110223   -5.99747985] with lambda  43.796785444613505\n",
      "5 len pars\n",
      "step accepted. new m is [-220.32730007  -12.85099292   -1.34420612  137.77110223   -5.99747985]\n",
      "on iteration  38  chisq is  1251872.4459808166  taking step  [-220.63304041   -9.81655024   -1.34165606  138.13347431   -5.96813931] with lambda  29.19785696307567\n",
      "5 len pars\n",
      "step accepted. new m is [-220.63304041   -9.81655024   -1.34165606  138.13347431   -5.96813931]\n",
      "on iteration  39  chisq is  1251280.010832727  taking step  [-220.42869019   -5.43163214   -1.34108519  138.46034871   -5.95896257] with lambda  19.46523797538378\n",
      "5 len pars\n",
      "step accepted. new m is [-220.42869019   -5.43163214   -1.34108519  138.46034871   -5.95896257]\n",
      "on iteration  40  chisq is  1250519.0029388648  taking step  [-220.19648622    0.98692515   -1.34134376  138.52161282   -5.95790499] with lambda  12.97682531692252\n",
      "5 len pars\n",
      "step accepted. new m is [-220.19648622    0.98692515   -1.34134376  138.52161282   -5.95790499]\n",
      "on iteration  41  chisq is  1249443.5996754114  taking step  [-220.54760838   10.28307442   -1.3419712   137.72932714   -5.95953927] with lambda  8.651216877948347\n",
      "5 len pars\n",
      "step accepted. new m is [-220.54760838   10.28307442   -1.3419712   137.72932714   -5.95953927]\n",
      "on iteration  42  chisq is  1247929.5873915097  taking step  [-222.65008582   23.36742601   -1.34290081  134.75881691   -5.96225558] with lambda  5.767477918632231\n",
      "5 len pars\n",
      "step accepted. new m is [-222.65008582   23.36742601   -1.34290081  134.75881691   -5.96225558]\n",
      "on iteration  43  chisq is  1245835.0851763978  taking step  [-229.10662498   40.50852823   -1.34426616  126.91845164   -5.96596925] with lambda  3.8449852790881542\n",
      "5 len pars\n",
      "step accepted. new m is [-229.10662498   40.50852823   -1.34426616  126.91845164   -5.96596925]\n",
      "on iteration  44  chisq is  1243331.3025186523  taking step  [-245.21607786   57.95533729   -1.34633458  110.06414985   -5.97032109] with lambda  2.5633235193921027\n",
      "5 len pars\n",
      "step rejected. old m is [-229.10662498   40.50852823   -1.34426616  126.91845164   -5.96596925]\n",
      "on iteration  45  chisq is  1243331.3025186523  taking step  [-242.22094137   39.89335615   -1.34817004  117.43383937   -5.97407334] with lambda  5.126647038784205\n",
      "5 len pars\n",
      "step rejected. old m is [-229.10662498   40.50852823   -1.34426616  126.91845164   -5.96596925]\n",
      "on iteration  46  chisq is  1243331.3025186523  taking step  [-228.85487193   49.1435424    -1.33995569  120.18628586   -5.93682119] with lambda  10.25329407756841\n",
      "5 len pars\n",
      "step rejected. old m is [-229.10662498   40.50852823   -1.34426616  126.91845164   -5.96596925]\n",
      "on iteration  47  chisq is  1243331.3025186523  taking step  [-236.79329627   38.36560769   -1.35972647  125.84202697   -6.06620094] with lambda  20.50658815513682\n",
      "5 len pars\n",
      "step rejected. old m is [-229.10662498   40.50852823   -1.34426616  126.91845164   -5.96596925]\n",
      "on iteration  48  chisq is  1243331.3025186523  taking step  [-227.0891738    43.70139978   -1.32237757  125.13278359   -5.8061357 ] with lambda  41.01317631027364\n",
      "5 len pars\n",
      "step rejected. old m is [-229.10662498   40.50852823   -1.34426616  126.91845164   -5.96596925]\n",
      "on iteration  49  chisq is  1243331.3025186523  taking step  [-232.28704909   39.44121399   -1.38198778  126.87629194   -6.24210679] with lambda  82.02635262054729\n",
      "5 len pars\n",
      "step rejected. old m is [-229.10662498   40.50852823   -1.34426616  126.91845164   -5.96596925]\n",
      "on iteration  50  chisq is  1243331.3025186523  taking step  [-229.02587871   41.04795304   -1.3019722   126.55215859   -5.6676012 ] with lambda  164.05270524109457\n",
      "5 len pars\n",
      "step rejected. old m is [-229.10662498   40.50852823   -1.34426616  126.91845164   -5.96596925]\n",
      "on iteration  51  chisq is  1243331.3025186523  taking step  [-229.76935977   40.36080723   -1.39559622  126.86731083   -6.328007  ] with lambda  328.10541048218914\n",
      "5 len pars\n",
      "step rejected. old m is [-229.10662498   40.50852823   -1.34426616  126.91845164   -5.96596925]\n",
      "on iteration  52  chisq is  1243331.3025186523  taking step  [-229.31626708   40.50771668   -1.29913773  126.86979447   -5.67898836] with lambda  656.2108209643783\n",
      "5 len pars\n",
      "step rejected. old m is [-229.10662498   40.50852823   -1.34426616  126.91845164   -5.96596925]\n",
      "on iteration  53  chisq is  1243331.3025186523  taking step  [-229.27471494   40.4718997    -1.39543143  126.90569686   -6.306068  ] with lambda  1312.4216419287566\n",
      "5 len pars\n",
      "step rejected. old m is [-229.10662498   40.50852823   -1.34426616  126.91845164   -5.96596925]\n",
      "on iteration  54  chisq is  1243331.3025186523  taking step  [-229.17048001   40.5015838    -1.30799696  126.90849238   -5.74587119] with lambda  2624.843283857513\n",
      "5 len pars\n",
      "step rejected. old m is [-229.10662498   40.50852823   -1.34426616  126.91845164   -5.96596925]\n",
      "on iteration  55  chisq is  1243331.3025186523  taking step  [-229.1580859    40.49386705   -1.38155058  126.91706899   -6.23450379] with lambda  5249.686567715026\n",
      "5 len pars\n",
      "step rejected. old m is [-229.10662498   40.50852823   -1.34426616  126.91845164   -5.96596925]\n",
      "on iteration  56  chisq is  1243331.3025186523  taking step  [-229.1214507    40.50746081   -1.33066258  126.9157432    -5.84927341] with lambda  10499.373135430053\n",
      "5 len pars\n",
      "step rejected. old m is [-229.10662498   40.50852823   -1.34426616  126.91845164   -5.96596925]\n",
      "on iteration  57  chisq is  1243331.3025186523  taking step  [-229.12238696   40.50316874   -1.35185474  126.91865984   -6.10591591] with lambda  20998.746270860105\n",
      "5 len pars\n",
      "step accepted. new m is [-229.12238696   40.50316874   -1.35185474  126.91865984   -6.10591591]\n",
      "on iteration  58  chisq is  1242901.7124952883  taking step  [-229.13705449   40.50031487   -1.3578291   126.91729407   -6.08671405] with lambda  13999.164180573403\n",
      "5 len pars\n",
      "step accepted. new m is [-229.13705449   40.50031487   -1.3578291   126.91729407   -6.08671405]\n",
      "on iteration  59  chisq is  1242866.5211602184  taking step  [-229.15981293   40.49560236   -1.35788096  126.91538339   -6.07959421] with lambda  9332.776120382268\n",
      "5 len pars\n",
      "step accepted. new m is [-229.15981293   40.49560236   -1.35788096  126.91538339   -6.07959421]\n",
      "on iteration  60  chisq is  1242853.9322019136  taking step  [-229.19389716   40.48856956   -1.35746935  126.91250422   -6.07652365] with lambda  6221.850746921512\n",
      "5 len pars\n",
      "step accepted. new m is [-229.19389716   40.48856956   -1.35746935  126.91250422   -6.07652365]\n",
      "on iteration  61  chisq is  1242838.4502429531  taking step  [-229.24424843   40.47847707   -1.35715635  126.90803502   -6.07399085] with lambda  4147.900497947675\n",
      "5 len pars\n",
      "step accepted. new m is [-229.24424843   40.47847707   -1.35715635  126.90803502   -6.07399085]\n",
      "on iteration  62  chisq is  1242816.1400914546  taking step  [-229.31789838   40.46444132   -1.35679357  126.90096868   -6.07069832] with lambda  2765.2669986317833\n",
      "5 len pars\n",
      "step accepted. new m is [-229.31789838   40.46444132   -1.35679357  126.90096868   -6.07069832]\n",
      "on iteration  63  chisq is  1242784.273458909  taking step  [-229.42430846   40.44577473   -1.35628907  126.88958479   -6.06604966] with lambda  1843.5113324211889\n",
      "5 len pars\n",
      "step accepted. new m is [-229.42430846   40.44577473   -1.35628907  126.88958479   -6.06604966]\n",
      "on iteration  64  chisq is  1242739.7803908125  taking step  [-229.57539932   40.42277697   -1.35558782  126.87086543   -6.05957054] with lambda  1229.0075549474593\n",
      "5 len pars\n",
      "step accepted. new m is [-229.57539932   40.42277697   -1.35558782  126.87086543   -6.05957054]\n",
      "on iteration  65  chisq is  1242679.639977469  taking step  [-229.78476322   40.39840611   -1.35464545  126.83945859   -6.05083651] with lambda  819.3383699649729\n",
      "5 len pars\n",
      "step accepted. new m is [-229.78476322   40.39840611   -1.35464545  126.83945859   -6.05083651]\n",
      "on iteration  66  chisq is  1242601.8726031221  taking step  [-230.06546608   40.38137171   -1.35344118  126.7859256    -6.03962349] with lambda  546.2255799766486\n",
      "5 len pars\n",
      "step accepted. new m is [-230.06546608   40.38137171   -1.35344118  126.7859256    -6.03962349]\n",
      "on iteration  67  chisq is  1242506.849561757  taking step  [-230.42641381   40.39095389   -1.35200753  126.69402872   -6.02618121] with lambda  364.1503866510991\n",
      "5 len pars\n",
      "step accepted. new m is [-230.42641381   40.39095389   -1.35200753  126.69402872   -6.02618121]\n",
      "on iteration  68  chisq is  1242397.8277785205  taking step  [-230.86927993   40.4628144    -1.35045956  126.5370385    -6.01151007] with lambda  242.76692443406606\n",
      "5 len pars\n",
      "step accepted. new m is [-230.86927993   40.4628144    -1.35045956  126.5370385    -6.01151007]\n",
      "on iteration  69  chisq is  1242278.6089506033  taking step  [-231.3914058    40.65327109   -1.34899454  126.27338762   -5.99737936] with lambda  161.84461628937737\n",
      "5 len pars\n",
      "step accepted. new m is [-231.3914058    40.65327109   -1.34899454  126.27338762   -5.99737936]\n",
      "on iteration  70  chisq is  1242147.111304333  taking step  [-232.00147426   41.03885183   -1.34783238  125.84177955   -5.98580417] with lambda  107.89641085958492\n",
      "5 len pars\n",
      "step accepted. new m is [-232.00147426   41.03885183   -1.34783238  125.84177955   -5.98580417]\n",
      "on iteration  71  chisq is  1241988.015426831  taking step  [-232.74820511   41.71158566   -1.34711245  125.15398406   -5.97809052] with lambda  71.93094057305662\n",
      "5 len pars\n",
      "step accepted. new m is [-232.74820511   41.71158566   -1.34711245  125.15398406   -5.97809052]\n",
      "on iteration  72  chisq is  1241770.4998239423  taking step  [-233.7506749    42.7765326    -1.34682824  124.08039032   -5.9741728 ] with lambda  47.95396038203774\n",
      "5 len pars\n",
      "step accepted. new m is [-233.7506749    42.7765326    -1.34682824  124.08039032   -5.9741728 ]\n",
      "on iteration  73  chisq is  1241450.4806455811  taking step  [-235.2213369    44.35493022   -1.34686918  122.42186577   -5.97291165] with lambda  31.969306921358495\n",
      "5 len pars\n",
      "step accepted. new m is [-235.2213369    44.35493022   -1.34686918  122.42186577   -5.97291165]\n",
      "on iteration  74  chisq is  1240968.7116654615  taking step  [-237.49701812   46.57586637   -1.34712657  119.86320409   -5.97301381] with lambda  21.312871280905664\n",
      "5 len pars\n",
      "step accepted. new m is [-237.49701812   46.57586637   -1.34712657  119.86320409   -5.97301381]\n",
      "on iteration  75  chisq is  1240241.0714959009  taking step  [-241.10631527   49.50856528   -1.3475571   115.90704472   -5.97359111] with lambda  14.208580853937109\n",
      "5 len pars\n",
      "step accepted. new m is [-241.10631527   49.50856528   -1.3475571   115.90704472   -5.97359111]\n",
      "on iteration  76  chisq is  1239147.692784321  taking step  [-246.86294374   52.94704127   -1.34816613  109.80092471   -5.97393609] with lambda  9.472387235958072\n",
      "5 len pars\n",
      "step accepted. new m is [-246.86294374   52.94704127   -1.34816613  109.80092471   -5.97393609]\n",
      "on iteration  77  chisq is  1237539.8638488748  taking step  [-255.83007561   55.92510796   -1.34894231  100.5229532    -5.97272473] with lambda  6.314924823972048\n",
      "5 len pars\n",
      "step accepted. new m is [-255.83007561   55.92510796   -1.34894231  100.5229532    -5.97272473]\n",
      "on iteration  78  chisq is  1235311.0761782946  taking step  [-268.63239747   56.04738942   -1.34977375   86.99465264   -5.96688217] with lambda  4.209949882648032\n",
      "5 len pars\n",
      "step accepted. new m is [-268.63239747   56.04738942   -1.34977375   86.99465264   -5.96688217]\n",
      "on iteration  79  chisq is  1232481.0205977429  taking step  [-283.12342782   49.78419146   -1.35041627   68.9914277    -5.95068817] with lambda  2.806633255098688\n",
      "5 len pars\n",
      "step accepted. new m is [-283.12342782   49.78419146   -1.35041627   68.9914277    -5.95068817]\n",
      "on iteration  80  chisq is  1228575.1326010402  taking step  [-289.81185455   37.09937088   -1.35068121   50.8843615    -5.91708523] with lambda  1.8710888367324587\n",
      "5 len pars\n",
      "step accepted. new m is [-289.81185455   37.09937088   -1.35068121   50.8843615    -5.91708523]\n",
      "on iteration  81  chisq is  1223287.0192803224  taking step  [-272.84352009   23.69928778   -1.35094639   38.84218545   -5.87425334] with lambda  1.2473925578216392\n",
      "5 len pars\n",
      "step accepted. new m is [-272.84352009   23.69928778   -1.35094639   38.84218545   -5.87425334]\n",
      "on iteration  82  chisq is  1220813.7285432466  taking step  [-198.95963804  -12.98449591   -1.34905801    7.1215352    -5.83992074] with lambda  0.8315950385477594\n",
      "5 len pars\n",
      "step rejected. old m is [-272.84352009   23.69928778   -1.35094639   38.84218545   -5.87425334]\n",
      "on iteration  83  chisq is  1220813.7285432466  taking step  [-360.18590706  -10.18574559   -1.15527526   70.00067179   -9.39791861] with lambda  1.6631900770955188\n",
      "5 len pars\n",
      "step rejected. old m is [-272.84352009   23.69928778   -1.35094639   38.84218545   -5.87425334]\n",
      "on iteration  84  chisq is  1220813.7285432466  taking step  [-128.3387452    38.87588427   -1.50913184   34.80451931   -1.97459037] with lambda  3.3263801541910376\n",
      "5 len pars\n",
      "step rejected. old m is [-272.84352009   23.69928778   -1.35094639   38.84218545   -5.87425334]\n",
      "on iteration  85  chisq is  1220813.7285432466  taking step  [-283.39945487  -10.90004738   -1.16847789   58.47531166  -11.91285085] with lambda  6.652760308382075\n",
      "5 len pars\n",
      "step rejected. old m is [-272.84352009   23.69928778   -1.35094639   38.84218545   -5.87425334]\n",
      "on iteration  86  chisq is  1220813.7285432466  taking step  [-216.74284237   25.57284133   -1.55559358   40.03557972    6.52196168] with lambda  13.30552061676415\n",
      "5 len pars\n",
      "step rejected. old m is [-272.84352009   23.69928778   -1.35094639   38.84218545   -5.87425334]\n",
      "on iteration  87  chisq is  1220813.7285432466  taking step  [-278.94680705    9.18801582   -1.07446965   37.71057516   -6.57134681] with lambda  26.6110412335283\n",
      "5 len pars\n",
      "step rejected. old m is [-272.84352009   23.69928778   -1.35094639   38.84218545   -5.87425334]\n",
      "on iteration  88  chisq is  1220813.7285432466  taking step  [-259.63837664   36.11697464   -1.57404059   32.01527088   -4.93046532] with lambda  53.2220824670566\n",
      "5 len pars\n",
      "step rejected. old m is [-272.84352009   23.69928778   -1.35094639   38.84218545   -5.87425334]\n",
      "on iteration  89  chisq is  1220813.7285432466  taking step  [-273.1877482    16.80508679   -1.06833319   48.59253911   -7.06757825] with lambda  106.4441649341132\n",
      "5 len pars\n",
      "step rejected. old m is [-272.84352009   23.69928778   -1.35094639   38.84218545   -5.87425334]\n",
      "on iteration  90  chisq is  1220813.7285432466  taking step  [-268.41714089   32.45302725   -1.60041734   34.9320762    -4.1051739 ] with lambda  212.8883298682264\n",
      "5 len pars\n",
      "step rejected. old m is [-272.84352009   23.69928778   -1.35094639   38.84218545   -5.87425334]\n",
      "on iteration  91  chisq is  1220813.7285432466  taking step  [-273.45168866   18.83163654   -1.11759572   43.37527198   -7.62486182] with lambda  425.7766597364528\n",
      "5 len pars\n",
      "step rejected. old m is [-272.84352009   23.69928778   -1.35094639   38.84218545   -5.87425334]\n",
      "on iteration  92  chisq is  1220813.7285432466  taking step  [-271.47056366   27.41240582   -1.57491477   36.95071542   -3.14369414] with lambda  851.5533194729056\n",
      "5 len pars\n",
      "step rejected. old m is [-272.84352009   23.69928778   -1.35094639   38.84218545   -5.87425334]\n",
      "on iteration  93  chisq is  1220813.7285432466  taking step  [-272.9857962    22.90785071   -1.16447215   39.33038579   -7.80503189] with lambda  1703.1066389458113\n",
      "5 len pars\n",
      "step rejected. old m is [-272.84352009   23.69928778   -1.35094639   38.84218545   -5.87425334]\n",
      "on iteration  94  chisq is  1220813.7285432466  taking step  [-272.62055319   24.51204525   -1.64604386   38.33552629   -3.75230529] with lambda  3406.2132778916225\n",
      "5 len pars\n",
      "step rejected. old m is [-272.84352009   23.69928778   -1.35094639   38.84218545   -5.87425334]\n",
      "on iteration  95  chisq is  1220813.7285432466  taking step  [-272.85013951   23.67341534   -1.12035861   38.82468826   -7.29427221] with lambda  6812.426555783245\n",
      "5 len pars\n",
      "step rejected. old m is [-272.84352009   23.69928778   -1.35094639   38.84218545   -5.87425334]\n",
      "on iteration  96  chisq is  1220813.7285432466  taking step  [-272.77690937   23.96189129   -1.65083412   38.67351311   -4.86963969] with lambda  13624.85311156649\n",
      "5 len pars\n",
      "step rejected. old m is [-272.84352009   23.69928778   -1.35094639   38.84218545   -5.87425334]\n",
      "on iteration  97  chisq is  1220813.7285432466  taking step  [-272.8515336    23.66142028   -1.1184475    38.85963385   -6.47799332] with lambda  27249.70622313298\n",
      "5 len pars\n",
      "step rejected. old m is [-272.84352009   23.69928778   -1.35094639   38.84218545   -5.87425334]\n",
      "on iteration  98  chisq is  1220813.7285432466  taking step  [-272.82952383   23.75472247   -1.50472899   38.80573959   -5.60183969] with lambda  54499.41244626596\n",
      "5 len pars\n",
      "step rejected. old m is [-272.84352009   23.69928778   -1.35094639   38.84218545   -5.87425334]\n",
      "on iteration  99  chisq is  1220813.7285432466  taking step  [-272.84387347   23.6964027    -1.28144645   38.84267789   -5.94073829] with lambda  108998.82489253192\n",
      "5 len pars\n",
      "step rejected. old m is [-272.84352009   23.69928778   -1.35094639   38.84218545   -5.87425334]\n",
      "on iteration  100  chisq is  1220813.7285432466  taking step  [-272.84194976   23.70515249   -1.37013779   38.83794338   -5.84607272] with lambda  217997.64978506384\n",
      "5 len pars\n",
      "step accepted. new m is [-272.84194976   23.70515249   -1.37013779   38.83794338   -5.84607272]\n",
      "on iteration  101  chisq is  1220605.5681722122  taking step  [-272.84046859   23.71029596   -1.36548389   38.83382166   -5.83233411] with lambda  145331.7665233759\n",
      "5 len pars\n",
      "step accepted. new m is [-272.84046859   23.71029596   -1.36548389   38.83382166   -5.83233411]\n",
      "on iteration  102  chisq is  1220521.2541569984  taking step  [-272.83847543   23.71703692   -1.35989951   38.82824857   -5.81804082] with lambda  96887.84434891726\n",
      "5 len pars\n",
      "step accepted. new m is [-272.83847543   23.71703692   -1.35989951   38.82824857   -5.81804082]\n",
      "on iteration  103  chisq is  1220448.6829020148  taking step  [-272.83581552   23.72573969   -1.35414252   38.82077222   -5.80532331] with lambda  64591.89623261151\n",
      "5 len pars\n",
      "step accepted. new m is [-272.83581552   23.72573969   -1.35414252   38.82077222   -5.80532331]\n",
      "on iteration  104  chisq is  1220395.537584545  taking step  [-272.8322463    23.73698906   -1.34931017   38.81069509   -5.79636897] with lambda  43061.264155074336\n",
      "5 len pars\n",
      "step accepted. new m is [-272.8322463    23.73698906   -1.34931017   38.81069509   -5.79636897]\n",
      "on iteration  105  chisq is  1220359.421213849  taking step  [-272.82738263   23.75173817   -1.34622783   38.79693318   -5.79238946] with lambda  28707.509436716224\n",
      "5 len pars\n",
      "step accepted. new m is [-272.82738263   23.75173817   -1.34622783   38.79693318   -5.79238946]\n",
      "on iteration  106  chisq is  1220330.190332353  taking step  [-272.8206738    23.77126986   -1.34495685   38.7779728    -5.7931692 ] with lambda  19138.33962447748\n",
      "5 len pars\n",
      "step accepted. new m is [-272.8206738    23.77126986   -1.34495685   38.7779728    -5.7931692 ]\n",
      "on iteration  107  chisq is  1220298.3673164963  taking step  [-272.81144782   23.79678849   -1.34496629   38.75203398   -5.79765391] with lambda  12758.893082984987\n",
      "5 len pars\n",
      "step accepted. new m is [-272.81144782   23.79678849   -1.34496629   38.75203398   -5.79765391]\n",
      "on iteration  108  chisq is  1220259.9063222287  taking step  [-272.79902298   23.82859244   -1.34567485   38.71746416   -5.80482164] with lambda  8505.92872198999\n",
      "5 len pars\n",
      "step accepted. new m is [-272.79902298   23.82859244   -1.34567485   38.71746416   -5.80482164]\n",
      "on iteration  109  chisq is  1220215.6639578561  taking step  [-272.7828549    23.86489018   -1.34673011   38.67330937   -5.81390477] with lambda  5670.619147993327\n",
      "5 len pars\n",
      "step accepted. new m is [-272.7828549    23.86489018   -1.34673011   38.67330937   -5.81390477]\n",
      "on iteration  110  chisq is  1220170.0489074439  taking step  [-272.7626265    23.90057292   -1.34793525   38.61982722   -5.82401269] with lambda  3780.4127653288847\n",
      "5 len pars\n",
      "step accepted. new m is [-272.7626265    23.90057292   -1.34793525   38.61982722   -5.82401269]\n",
      "on iteration  111  chisq is  1220129.3328963174  taking step  [-272.73805405   23.9268477    -1.34911155   38.55827615   -5.83381508] with lambda  2520.275176885923\n",
      "5 len pars\n",
      "step accepted. new m is [-272.73805405   23.9268477    -1.34911155   38.55827615   -5.83381508]\n",
      "on iteration  112  chisq is  1220098.051983703  taking step  [-272.70812745   23.93285693   -1.35007279   38.48910509   -5.84177412] with lambda  1680.183451257282\n",
      "5 len pars\n",
      "step accepted. new m is [-272.70812745   23.93285693   -1.35007279   38.48910509   -5.84177412]\n",
      "on iteration  113  chisq is  1220075.220516881  taking step  [-272.66981628   23.90882293   -1.35069842   38.40868522   -5.84687296] with lambda  1120.122300838188\n",
      "5 len pars\n",
      "step accepted. new m is [-272.66981628   23.90882293   -1.35069842   38.40868522   -5.84687296]\n",
      "on iteration  114  chisq is  1220054.5915550236  taking step  [-272.61676016   23.84755663   -1.35099761   38.30658815   -5.84915962] with lambda  746.7482005587921\n",
      "5 len pars\n",
      "step accepted. new m is [-272.61676016   23.84755663   -1.35099761   38.30658815   -5.84915962]\n",
      "on iteration  115  chisq is  1220028.6688178584  taking step  [-272.53819781   23.74161426   -1.351075     38.16520076   -5.84946245] with lambda  497.8321337058614\n",
      "5 len pars\n",
      "step accepted. new m is [-272.53819781   23.74161426   -1.351075     38.16520076   -5.84946245]\n",
      "on iteration  116  chisq is  1219990.9377300586  taking step  [-272.41719538   23.57783633   -1.35103626   37.96040678   -5.84860721] with lambda  331.8880891372409\n",
      "5 len pars\n",
      "step accepted. new m is [-272.41719538   23.57783633   -1.35103626   37.96040678   -5.84860721]\n",
      "on iteration  117  chisq is  1219934.5016318613  taking step  [-272.22637613   23.33286393   -1.35093426   37.66067078   -5.84696169] with lambda  221.25872609149394\n",
      "5 len pars\n",
      "step accepted. new m is [-272.22637613   23.33286393   -1.35093426   37.66067078   -5.84696169]\n",
      "on iteration  118  chisq is  1219849.709939532  taking step  [-271.91905515   22.96994912   -1.35077621   37.22401597   -5.84448349] with lambda  147.50581739432928\n",
      "5 len pars\n",
      "step accepted. new m is [-271.91905515   22.96994912   -1.35077621   37.22401597   -5.84448349]\n",
      "on iteration  119  chisq is  1219721.6301663858  taking step  [-271.41225315   22.43450292   -1.35054651   36.59387423   -5.84090619] with lambda  98.33721159621952\n",
      "5 len pars\n"
     ]
    },
    {
     "name": "stdout",
     "output_type": "stream",
     "text": [
      "step accepted. new m is [-271.41225315   22.43450292   -1.35054651   36.59387423   -5.84090619]\n",
      "on iteration  120  chisq is  1219525.709175459  taking step  [-270.55406842   21.64481246   -1.35021789   35.69249226   -5.83583933] with lambda  65.55814106414634\n",
      "5 len pars\n",
      "step accepted. new m is [-270.55406842   21.64481246   -1.35021789   35.69249226   -5.83583933]\n",
      "on iteration  121  chisq is  1219217.4698515746  taking step  [-269.05897182   20.46912428   -1.34974855   34.40194812   -5.82876663] with lambda  43.70542737609756\n",
      "5 len pars\n",
      "step accepted. new m is [-269.05897182   20.46912428   -1.34974855   34.40194812   -5.82876663]\n",
      "on iteration  122  chisq is  1218703.5515475615  taking step  [-266.3668693    18.65904217   -1.34905433   32.49557826   -5.81883902] with lambda  29.13695158406504\n",
      "5 len pars\n",
      "step accepted. new m is [-266.3668693    18.65904217   -1.34905433   32.49557826   -5.81883902]\n",
      "on iteration  123  chisq is  1217745.0325130927  taking step  [-261.25287031   15.6297478    -1.34788769   29.38454742   -5.80382356] with lambda  19.424634389376696\n",
      "5 len pars\n",
      "step accepted. new m is [-261.25287031   15.6297478    -1.34788769   29.38454742   -5.80382356]\n",
      "on iteration  124  chisq is  1215515.6266811956  taking step  [-250.18071381    9.51467113   -1.34524841   22.95123223   -5.77495182] with lambda  12.949756259584463\n",
      "5 len pars\n",
      "step accepted. new m is [-250.18071381    9.51467113   -1.34524841   22.95123223   -5.77495182]\n",
      "on iteration  125  chisq is  1206389.6687663856  taking step  [-215.9302788   -10.61363207   -1.33551287   -2.05777388   -5.68789704] with lambda  8.633170839722975\n",
      "5 len pars\n",
      "step rejected. old m is [-250.18071381    9.51467113   -1.34524841   22.95123223   -5.77495182]\n",
      "on iteration  126  chisq is  1206389.6687663856  taking step  [-250.111378    -21.9840505    -0.32279442    3.97356844  -21.20570887] with lambda  17.26634167944595\n",
      "5 len pars\n",
      "step rejected. old m is [-250.18071381    9.51467113   -1.34524841   22.95123223   -5.77495182]\n",
      "on iteration  127  chisq is  1206389.6687663856  taking step  [-250.23944749   24.07345015   -1.34942899   80.50070735   -5.80036214] with lambda  34.5326833588919\n",
      "5 len pars\n",
      "step rejected. old m is [-250.18071381    9.51467113   -1.34524841   22.95123223   -5.77495182]\n",
      "on iteration  128  chisq is  1206389.6687663856  taking step  [-244.96666676   16.86737731   -1.32092292   19.5242241    -5.71686955] with lambda  69.0653667177838\n",
      "5 len pars\n",
      "step rejected. old m is [-250.18071381    9.51467113   -1.34524841   22.95123223   -5.77495182]\n",
      "on iteration  129  chisq is  1206389.6687663856  taking step  [-249.21750339    5.91618378   -1.40174864   28.4927289    -5.6881397 ] with lambda  138.1307334355676\n",
      "5 len pars\n",
      "step rejected. old m is [-250.18071381    9.51467113   -1.34524841   22.95123223   -5.77495182]\n",
      "on iteration  130  chisq is  1206389.6687663856  taking step  [-248.11088778   13.39382748   -1.26505035   19.57369519   -5.6982957 ] with lambda  276.2614668711352\n",
      "5 len pars\n",
      "step rejected. old m is [-250.18071381    9.51467113   -1.34524841   22.95123223   -5.77495182]\n",
      "on iteration  131  chisq is  1206389.6687663856  taking step  [-250.05732902    6.36925608   -1.45451199   25.32498366   -5.8163727 ] with lambda  552.5229337422704\n",
      "5 len pars\n",
      "step rejected. old m is [-250.18071381    9.51467113   -1.34524841   22.95123223   -5.77495182]\n",
      "on iteration  132  chisq is  1206389.6687663856  taking step  [-249.50088858   11.21472788   -1.20482333   21.58491571   -5.48459721] with lambda  1105.0458674845408\n",
      "5 len pars\n",
      "step rejected. old m is [-250.18071381    9.51467113   -1.34524841   22.95123223   -5.77495182]\n",
      "on iteration  133  chisq is  1206389.6687663856  taking step  [-250.23764854    8.37564235   -1.49206135   23.44397513   -6.13497441] with lambda  2210.0917349690817\n",
      "5 len pars\n",
      "step rejected. old m is [-250.18071381    9.51467113   -1.34524841   22.95123223   -5.77495182]\n",
      "on iteration  134  chisq is  1206389.6687663856  taking step  [-250.05697033    9.82852426   -1.19244366   22.62566224   -5.30513809] with lambda  4420.183469938163\n",
      "5 len pars\n",
      "step rejected. old m is [-250.18071381    9.51467113   -1.34524841   22.95123223   -5.77495182]\n",
      "on iteration  135  chisq is  1206389.6687663856  taking step  [-250.18192731    9.3763626    -1.46326233   22.94758769   -6.15296397] with lambda  8840.366939876327\n",
      "5 len pars\n",
      "step rejected. old m is [-250.18071381    9.51467113   -1.34524841   22.95123223   -5.77495182]\n",
      "on iteration  136  chisq is  1206389.6687663856  taking step  [-250.15669144    9.55714964   -1.27363018   22.89223524   -5.4937935 ] with lambda  17680.733879752654\n",
      "5 len pars\n",
      "step rejected. old m is [-250.18071381    9.51467113   -1.34524841   22.95123223   -5.77495182]\n",
      "on iteration  137  chisq is  1206389.6687663856  taking step  [-250.18017177    9.48797851   -1.3766729    22.94451427   -5.91733421] with lambda  35361.46775950531\n",
      "5 len pars\n",
      "step rejected. old m is [-250.18071381    9.51467113   -1.34524841   22.95123223   -5.77495182]\n",
      "on iteration  138  chisq is  1206389.6687663856  taking step  [-250.1757094     9.52151757   -1.34043893   22.93829342   -5.71200214] with lambda  70722.93551901061\n",
      "5 len pars\n",
      "step accepted. new m is [-250.1757094     9.52151757   -1.34043893   22.93829342   -5.71200214]\n",
      "on iteration  139  chisq is  1206385.1390472408  taking step  [-250.17231155    9.51434348   -1.33956622   22.92713602   -5.72820625] with lambda  47148.62367934041\n",
      "5 len pars\n",
      "step accepted. new m is [-250.17231155    9.51434348   -1.33956622   22.92713602   -5.72820625]\n",
      "on iteration  140  chisq is  1206328.1310130125  taking step  [-250.16675814    9.50537532   -1.34046482   22.90956249   -5.73818247] with lambda  31432.41578622694\n",
      "5 len pars\n",
      "step accepted. new m is [-250.16675814    9.50537532   -1.34046482   22.90956249   -5.73818247]\n",
      "on iteration  141  chisq is  1206290.5424436554  taking step  [-250.15812854    9.49288765   -1.34154553   22.88275585   -5.74331644] with lambda  20954.943857484624\n",
      "5 len pars\n",
      "step accepted. new m is [-250.15812854    9.49288765   -1.34154553   22.88275585   -5.74331644]\n",
      "on iteration  142  chisq is  1206248.394149487  taking step  [-250.14506754    9.47402781   -1.34219244   22.84260157   -5.7456346 ] with lambda  13969.962571656417\n",
      "5 len pars\n",
      "step accepted. new m is [-250.14506754    9.47402781   -1.34219244   22.84260157   -5.7456346 ]\n",
      "on iteration  143  chisq is  1206188.0346188517  taking step  [-250.12550527    9.44435      -1.34248567   22.78295945   -5.7466731 ] with lambda  9313.308381104278\n",
      "5 len pars\n",
      "step accepted. new m is [-250.12550527    9.44435      -1.34248567   22.78295945   -5.7466731 ]\n",
      "on iteration  144  chisq is  1206097.5928252013  taking step  [-250.09623956    9.39694068   -1.34261677   22.69458494   -5.74705558] with lambda  6208.872254069519\n",
      "5 len pars\n",
      "step accepted. new m is [-250.09623956    9.39694068   -1.34261677   22.69458494   -5.74705558]\n",
      "on iteration  145  chisq is  1205960.7368252985  taking step  [-250.05223577    9.32107763   -1.34265198   22.56334343   -5.74668159] with lambda  4139.248169379679\n",
      "5 len pars\n",
      "step accepted. new m is [-250.05223577    9.32107763   -1.34265198   22.56334343   -5.74668159]\n",
      "on iteration  146  chisq is  1205751.5064495932  taking step  [-249.98534902    9.20034345   -1.34255937   22.36703628   -5.74503999] with lambda  2759.4987795864527\n",
      "5 len pars\n",
      "step accepted. new m is [-249.98534902    9.20034345   -1.34255937   22.36703628   -5.74503999]\n",
      "on iteration  147  chisq is  1205426.6961742467  taking step  [-249.88193686    9.00954264   -1.34226733   22.06972293   -5.74139688] with lambda  1839.665853057635\n",
      "5 len pars\n",
      "step accepted. new m is [-249.88193686    9.00954264   -1.34226733   22.06972293   -5.74139688]\n",
      "on iteration  148  chisq is  1204910.9476307246  taking step  [-249.71824679    8.70837516   -1.34168154   21.61133601   -5.73477865] with lambda  1226.4439020384234\n",
      "5 len pars\n",
      "step accepted. new m is [-249.71824679    8.70837516   -1.34168154   21.61133601   -5.73477865]\n",
      "on iteration  149  chisq is  1204062.8743767282  taking step  [-249.45071435    8.2270387    -1.34065187   20.88651384   -5.72361415] with lambda  817.6292680256156\n",
      "5 len pars\n",
      "step accepted. new m is [-249.45071435    8.2270387    -1.34065187   20.88651384   -5.72361415]\n",
      "on iteration  150  chisq is  1202583.9713487257  taking step  [-248.99288271    7.43058472   -1.33886988   19.69230737   -5.70479274] with lambda  545.0861786837437\n",
      "5 len pars\n",
      "step accepted. new m is [-248.99288271    7.43058472   -1.33886988   19.69230737   -5.70479274]\n",
      "on iteration  151  chisq is  1199710.4471357358  taking step  [-248.15229025    6.01085844   -1.33561519   17.56203429   -5.67143257] with lambda  363.39078578916246\n",
      "5 len pars\n",
      "step accepted. new m is [-248.15229025    6.01085844   -1.33561519   17.56203429   -5.67143257]\n",
      "on iteration  152  chisq is  1192704.438968523  taking step  [-246.45402374    3.03856144   -1.32932632   13.02565607   -5.60985009] with lambda  242.26052385944163\n",
      "5 len pars\n",
      "step accepted. new m is [-246.45402374    3.03856144   -1.32932632   13.02565607   -5.60985009]\n",
      "on iteration  153  chisq is  1161989.1681334036  taking step  [-245.72288831   -2.67838164   -1.34151161    2.84593796   -5.73411736] with lambda  161.5070159062944\n",
      "5 len pars\n",
      "step rejected. old m is [-246.45402374    3.03856144   -1.32932632   13.02565607   -5.60985009]\n",
      "on iteration  154  chisq is  1161989.1681334036  taking step  [-242.30919932    4.40030226   -0.94886189   15.68186352   -4.39521902] with lambda  323.0140318125888\n",
      "5 len pars\n",
      "step rejected. old m is [-246.45402374    3.03856144   -1.32932632   13.02565607   -5.60985009]\n",
      "on iteration  155  chisq is  1161989.1681334036  taking step  [-246.21409173    1.37599686   -1.61801786    9.988343     -6.62904362] with lambda  646.0280636251777\n",
      "5 len pars\n",
      "step accepted. new m is [-246.21409173    1.37599686   -1.61801786    9.988343     -6.62904362]\n",
      "on iteration  156  chisq is  1144919.537837935  taking step  [-2.47137313e+02 -1.76098771e-01 -1.32858392e+00  6.39347603e+00\n",
      " -6.02137738e+00] with lambda  430.68537575011845\n",
      "5 len pars\n",
      "step accepted. new m is [-2.47137313e+02 -1.76098771e-01 -1.32858392e+00  6.39347603e+00\n",
      " -6.02137738e+00]\n",
      "on iteration  157  chisq is  1111351.1735777368  taking step  [-249.22282653    0.41876773   -1.35547745    7.07575781   -6.11083572] with lambda  287.1235838334123\n",
      "5 len pars\n",
      "step accepted. new m is [-249.22282653    0.41876773   -1.35547745    7.07575781   -6.11083572]\n",
      "on iteration  158  chisq is  1082043.837171289  taking step  [-252.08390899    0.41695968   -1.36253969    7.04244823   -6.06326714] with lambda  191.4157225556082\n",
      "5 len pars\n",
      "step accepted. new m is [-252.08390899    0.41695968   -1.36253969    7.04244823   -6.06326714]\n",
      "on iteration  159  chisq is  1078454.0618955158  taking step  [-255.43577444    0.40579916   -1.35272563    6.91724766   -5.98185616] with lambda  127.6104817037388\n",
      "5 len pars\n",
      "step accepted. new m is [-255.43577444    0.40579916   -1.35272563    6.91724766   -5.98185616]\n",
      "on iteration  160  chisq is  1075132.0171752465  taking step  [-259.04183569    0.39807902   -1.3442877     6.79028111   -5.8978951 ] with lambda  85.0736544691592\n",
      "5 len pars\n",
      "step accepted. new m is [-259.04183569    0.39807902   -1.3442877     6.79028111   -5.8978951 ]\n",
      "on iteration  161  chisq is  1072395.5826593055  taking step  [-262.48270722    0.39171426   -1.33668333    6.67591104   -5.82111381] with lambda  56.71576964610613\n",
      "5 len pars\n",
      "step accepted. new m is [-262.48270722    0.39171426   -1.33668333    6.67591104   -5.82111381]\n",
      "on iteration  162  chisq is  1070579.969694649  taking step  [-265.30781155    0.38762871   -1.33081624    6.5864236    -5.76026226] with lambda  37.81051309740409\n",
      "5 len pars\n",
      "step accepted. new m is [-265.30781155    0.38762871   -1.33081624    6.5864236    -5.76026226]\n",
      "on iteration  163  chisq is  1069659.606718722  taking step  [-267.24553522    0.3856968    -1.32700492    6.52674677   -5.71930855] with lambda  25.207008731602727\n",
      "5 len pars\n",
      "step accepted. new m is [-267.24553522    0.3856968    -1.32700492    6.52674677   -5.71930855]\n",
      "on iteration  164  chisq is  1069321.1913075405  taking step  [-268.32815114    0.38522397   -1.32497458    6.4935322    -5.69639337] with lambda  16.80467248773515\n",
      "5 len pars\n",
      "step accepted. new m is [-268.32815114    0.38522397   -1.32497458    6.4935322    -5.69639337]\n",
      "on iteration  165  chisq is  1069234.737003901  taking step  [-268.81345906    0.38537297   -1.3241099     6.47835728   -5.68589951] with lambda  11.203114991823433\n",
      "5 len pars\n",
      "step accepted. new m is [-268.81345906    0.38537297   -1.3241099     6.47835728   -5.68589951]\n",
      "on iteration  166  chisq is  1069219.7481070966  taking step  [-268.98813842    0.38559894   -1.32382057    6.47269552   -5.68198082] with lambda  7.468743327882289\n",
      "5 len pars\n",
      "step accepted. new m is [-268.98813842    0.38559894   -1.32382057    6.47269552   -5.68198082]\n",
      "on iteration  167  chisq is  1069217.9737122247  taking step  [-269.03961682    0.38572844   -1.32374467    6.4709491    -5.6807711 ] with lambda  4.9791622185881925\n",
      "5 len pars\n",
      "step accepted. new m is [-269.03961682    0.38572844   -1.32374467    6.4709491    -5.6807711 ]\n",
      "on iteration  168  chisq is  1069217.8245859127  taking step  [-269.05249256    0.38577827   -1.32372881    6.4704905    -5.68045299] with lambda  3.319441479058795\n",
      "5 len pars\n",
      "step accepted. new m is [-269.05249256    0.38577827   -1.32372881    6.4704905    -5.68045299]\n",
      "on iteration  169  chisq is  1069217.8151033793  taking step  [-269.05534914    0.3857931    -1.32372608    6.47038398   -5.68037895] with lambda  2.2129609860391968\n",
      "5 len pars\n",
      "step accepted. new m is [-269.05534914    0.3857931    -1.32372608    6.47038398   -5.68037895]\n",
      "on iteration  170  chisq is  1069217.8146137043  taking step  [-269.055935      0.38579681   -1.32372567    6.47036128   -5.68036314] with lambda  1.4753073240261312\n",
      "5 len pars\n",
      "step accepted. new m is [-269.055935      0.38579681   -1.32372567    6.47036128   -5.68036314]\n",
      "on iteration  171  chisq is  1069217.8145918618  taking step  [-269.05604956    0.38579764   -1.32372562    6.4703567    -5.68035994] with lambda  0.9835382160174208\n",
      "5 len pars\n",
      "step accepted. new m is [-269.05604956    0.38579764   -1.32372562    6.4703567    -5.68035994]\n",
      "on iteration  172  chisq is  1069217.8145909803  taking step  [-269.05607134    0.38579781   -1.32372561    6.47035581   -5.68035932] with lambda  0.6556921440116138\n",
      "5 len pars\n",
      "step accepted. new m is [-269.05607134    0.38579781   -1.32372561    6.47035581   -5.68035932]\n",
      "CHAIN CONVERGED\n"
     ]
    }
   ],
   "source": [
    "dp = np.asarray([0.001,0.001,0.001,0.001,0.001])/10\n",
    "# params = [-400,1,-2,4]\n",
    "params = [-1,1,-1,3,5]\n",
    "#let's fit a gaussian to snip\n",
    "y=np.ravel(snip)\n",
    "# width=5\n",
    "print(y.shape)\n",
    "fitp,pcov=tools.fit_lm(tools.gauss2d,params,y,dp,width,lmbda=10,niter=50000,rtol=1e-8)"
   ]
  },
  {
   "cell_type": "code",
   "execution_count": 26,
   "id": "7103ca87",
   "metadata": {},
   "outputs": [
    {
     "data": {
      "text/plain": [
       "<matplotlib.image.AxesImage at 0x7f369d04e340>"
      ]
     },
     "execution_count": 26,
     "metadata": {},
     "output_type": "execute_result"
    },
    {
     "data": {
      "image/png": "[encoded data removed]",
      "text/plain": [
       "<Figure size 432x288 with 1 Axes>"
      ]
     },
     "metadata": {
      "needs_background": "light"
     },
     "output_type": "display_data"
    }
   ],
   "source": [
    "mygauss = tools.gauss2d(fitp,width)\n",
    "plt.imshow(mygauss,aspect='equal')"
   ]
  },
  {
   "cell_type": "code",
   "execution_count": 27,
   "id": "23fe7a9c",
   "metadata": {},
   "outputs": [
    {
     "name": "stdout",
     "output_type": "stream",
     "text": [
      "0.15036547486172017 stddev of resiudals\n"
     ]
    },
    {
     "data": {
      "text/plain": [
       "<matplotlib.colorbar.Colorbar at 0x7f369cf796a0>"
      ]
     },
     "execution_count": 27,
     "metadata": {},
     "output_type": "execute_result"
    },
    {
     "data": {
      "image/png": "[encoded data removed]",
      "text/plain": [
       "<Figure size 432x288 with 2 Axes>"
      ]
     },
     "metadata": {
      "needs_background": "light"
     },
     "output_type": "display_data"
    }
   ],
   "source": [
    "predsnip = tools.gauss2d(fitp,width)\n",
    "res=snip-predsnip\n",
    "print(res.std(), \"stddev of resiudals\")\n",
    "plt.imshow(res,aspect='auto')\n",
    "plt.colorbar()\n"
   ]
  },
  {
   "cell_type": "code",
   "execution_count": 109,
   "id": "ce1a5728",
   "metadata": {},
   "outputs": [
    {
     "data": {
      "text/plain": [
       "81.03105330674161"
      ]
     },
     "execution_count": 109,
     "metadata": {},
     "output_type": "execute_result"
    }
   ],
   "source": []
  },
  {
   "cell_type": "markdown",
   "id": "a7bb2ee1",
   "metadata": {},
   "source": [
    "## Adding a rotation will help. but residual RMS (60) are lower than signal level (300) in the map."
   ]
  },
  {
   "cell_type": "code",
   "execution_count": null,
   "id": "a89daa55",
   "metadata": {},
   "outputs": [],
   "source": []
  }
 ],
 "metadata": {
  "kernelspec": {
   "display_name": "Python 3 (ipykernel)",
   "language": "python",
   "name": "python3"
  },
  "language_info": {
   "codemirror_mode": {
    "name": "ipython",
    "version": 3
   },
   "file_extension": ".py",
   "mimetype": "text/x-python",
   "name": "python",
   "nbconvert_exporter": "python",
   "pygments_lexer": "ipython3",
   "version": "3.8.10"
  }
 },
 "nbformat": 4,
 "nbformat_minor": 5
}
