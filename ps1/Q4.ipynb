{
 "cells": [
  {
   "cell_type": "code",
   "execution_count": 20,
   "id": "fb1e0514",
   "metadata": {},
   "outputs": [],
   "source": [
    "import numpy as np\n",
    "import matplotlib.pyplot as plt\n",
    "import scipy.stats as st"
   ]
  },
  {
   "cell_type": "code",
   "execution_count": 49,
   "id": "f20e86db",
   "metadata": {},
   "outputs": [],
   "source": [
    "# np.random.seed(42)\n",
    "x=np.linspace(-5,5,51)\n",
    "template =lambda x: np.exp(-x**2/2)\n",
    "sim=np.zeros((10000,51)) \n",
    "\n",
    "# simulation of 10k observations\n",
    "for i in range(10000):\n",
    "    sim[i,:]=np.random.randn(51)+template(x)"
   ]
  },
  {
   "cell_type": "code",
   "execution_count": 96,
   "id": "44aaba61",
   "metadata": {},
   "outputs": [
    {
     "data": {
      "text/plain": [
       "Text(0.5, 1.0, 'Template shape vs Real data')"
      ]
     },
     "execution_count": 96,
     "metadata": {},
     "output_type": "execute_result"
    },
    {
     "data": {
      "image/png": "[encoded data removed]",
      "text/plain": [
       "<Figure size 432x288 with 1 Axes>"
      ]
     },
     "metadata": {
      "needs_background": "light"
     },
     "output_type": "display_data"
    }
   ],
   "source": [
    "plt.plot(x,template(x),'-*', label='Template')\n",
    "plt.plot(x,sim[0],'o', label='Noisy realization')\n",
    "plt.title(\"Template shape vs Real data\")"
   ]
  },
  {
   "cell_type": "code",
   "execution_count": 50,
   "id": "7f4994a2",
   "metadata": {},
   "outputs": [],
   "source": [
    "noise_std=np.std(sim,axis=1).reshape(10000,1) #noise in each realization of simulation"
   ]
  },
  {
   "cell_type": "markdown",
   "id": "967b035e",
   "metadata": {},
   "source": [
    "#### Since we're only fitting an amplitude and noise in all 51 points is the same, it'll cancel out. "
   ]
  },
  {
   "cell_type": "code",
   "execution_count": 82,
   "id": "ff3e1a6c",
   "metadata": {},
   "outputs": [],
   "source": [
    "A=template(x).reshape(51,1) #calculating the A in A*m\n",
    "lhs=np.sum(A**2) \n",
    "sim_ampl=sim@A/lhs  #Simulation amplitudes -- 10,000 long array of amplitudes for each observation\n",
    "# The dot product is the other way round compared to the formula because I set up (10k,51 )array, instead of (51,10k)"
   ]
  },
  {
   "cell_type": "code",
   "execution_count": 52,
   "id": "29e29799",
   "metadata": {},
   "outputs": [],
   "source": [
    "ampl_noise = noise_std/np.sqrt(lhs)   # (A^T N^-1 A)^-1"
   ]
  },
  {
   "cell_type": "markdown",
   "id": "78a58c23",
   "metadata": {},
   "source": [
    "### Now that we've obtained 10k amplitudes from 10k observations, we have yet another max-likelihood problem --- fit a mean to measured amplitudes. Refer to eqn (18) in the PDF, best fit mean is just noise weighted average. And the error in best-fit amplitude is given by eqn (22)"
   ]
  },
  {
   "cell_type": "code",
   "execution_count": 63,
   "id": "0602a29b",
   "metadata": {},
   "outputs": [],
   "source": [
    "bestfit_ampl = np.sum(sim_ampl/ampl_noise**2)/np.sum(1/ampl_noise**2)\n",
    "bestfit_ampl_err = np.sqrt(1/np.sum(1/ampl_noise**2))"
   ]
  },
  {
   "cell_type": "code",
   "execution_count": 64,
   "id": "64cbbeb1",
   "metadata": {},
   "outputs": [
    {
     "name": "stdout",
     "output_type": "stream",
     "text": [
      "Best fit amplitude is: 0.9805878707524567 and 1-sigma error on it is 0.0034470277346384647\n"
     ]
    }
   ],
   "source": [
    "print(\"Best fit amplitude is:\", weighted_ampl, \"and 1-sigma error on it is\", np.sqrt(1/np.sum(1/ampl_noise**2)))"
   ]
  },
  {
   "cell_type": "code",
   "execution_count": 81,
   "id": "a5f9636a",
   "metadata": {},
   "outputs": [
    {
     "name": "stdout",
     "output_type": "stream",
     "text": [
      "We obtain a bias of -1.9% with significance 5.6 sigma\n"
     ]
    }
   ],
   "source": [
    "bias = (bestfit_ampl-1)\n",
    "bias_snr = bias/bestfit_ampl_err\n",
    "\n",
    "print(f\"We obtain a bias of {bias*100:2.1f}% with significance {np.abs(bias_snr):2.1f} sigma\")"
   ]
  },
  {
   "cell_type": "markdown",
   "id": "b30d2772",
   "metadata": {},
   "source": [
    "We see that the bestfit global amplitude is biased low. \n",
    "\n",
    "However, the amplitude of an individual chunk is unbiased as shown below (since the noise cancels out during estimation).\n",
    "\n",
    "Bias is fundamentally defined as $<m - m_{true}>$ where m is the parameter of interest."
   ]
  },
  {
   "cell_type": "code",
   "execution_count": 80,
   "id": "1fb95026",
   "metadata": {},
   "outputs": [
    {
     "name": "stdout",
     "output_type": "stream",
     "text": [
      "Bias of single chunk amplitude is 0.3% (0.003) with significance 0.8 sigma\n"
     ]
    }
   ],
   "source": [
    "single_chunk_bias = np.mean(sim_ampl-1)\n",
    "single_chunk_snr = single_chunk_bias/bestfit_ampl_err\n",
    "print(f\"Bias of single chunk amplitude is {single_chunk_bias*100:2.1f}% ({single_chunk_bias:5.3f}) with significance {single_chunk_snr:2.1f} sigma\" )"
   ]
  },
  {
   "cell_type": "markdown",
   "id": "30fc5804",
   "metadata": {},
   "source": [
    "So we see that's is extremely small, and not significant."
   ]
  },
  {
   "cell_type": "markdown",
   "id": "dd711315",
   "metadata": {},
   "source": [
    "#### In order to reduce the bias, we could either subtract a nominal model from all observation sets (fixed model), or estimate the errors from some a priori information about the system being analyzed."
   ]
  },
  {
   "cell_type": "code",
   "execution_count": null,
   "id": "5bbc9041",
   "metadata": {},
   "outputs": [],
   "source": []
  }
 ],
 "metadata": {
  "kernelspec": {
   "display_name": "Python 3 (ipykernel)",
   "language": "python",
   "name": "python3"
  },
  "language_info": {
   "codemirror_mode": {
    "name": "ipython",
    "version": 3
   },
   "file_extension": ".py",
   "mimetype": "text/x-python",
   "name": "python",
   "nbconvert_exporter": "python",
   "pygments_lexer": "ipython3",
   "version": "3.8.10"
  }
 },
 "nbformat": 4,
 "nbformat_minor": 5
}
